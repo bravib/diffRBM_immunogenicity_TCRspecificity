{
 "cells": [
  {
   "cell_type": "code",
   "execution_count": 2,
   "id": "46d6a61e",
   "metadata": {},
   "outputs": [],
   "source": [
    "import pandas as pd\n",
    "import numpy as np\n",
    "import matplotlib.pyplot as plt\n",
    "from sklearn import metrics\n",
    "from os.path import exists\n",
    "from tqdm import tqdm\n",
    "\n",
    "from Levenshtein import distance\n",
    "\n",
    "%matplotlib inline"
   ]
  },
  {
   "cell_type": "code",
   "execution_count": 3,
   "id": "a7c3fd42",
   "metadata": {},
   "outputs": [],
   "source": [
    "def tcr_dist(tcr1, tcr2):\n",
    "    d0 = distance(tcr1[0], tcr2[0])\n",
    "    d1 = 1 - int(tcr1[1] == tcr2[1])\n",
    "    d2 = 1 - int(tcr1[2] == tcr2[2])\n",
    "    return d0 + d1 + d2"
   ]
  },
  {
   "cell_type": "code",
   "execution_count": 4,
   "id": "33833330",
   "metadata": {},
   "outputs": [],
   "source": [
    "# settings\n",
    "pep = \"YLQPRTFLL\""
   ]
  },
  {
   "cell_type": "code",
   "execution_count": 5,
   "id": "c9cf9ff2",
   "metadata": {},
   "outputs": [],
   "source": [
    "# load and prepare peptide-specific seqs for SONIA\n",
    "vdgdb_df = pd.read_csv('./' + pep + '/VDJdb_' + pep + '_WithAligned20.csv')\n",
    "vdgdb_df = vdgdb_df.drop_duplicates().reset_index(drop=True)\n",
    "t_seqs = vdgdb_df['CDR3_beta'].to_list()\n",
    "t_v = vdgdb_df['TRBV_gene'].to_list()\n",
    "t_j = vdgdb_df['TRBJ_gene'].to_list()\n",
    "sonia_input_vdgdb = [list(a) for a in zip(t_seqs, t_v, t_j)]"
   ]
  },
  {
   "cell_type": "code",
   "execution_count": 6,
   "id": "d1397dbb",
   "metadata": {},
   "outputs": [],
   "source": [
    "# load and prepare second set of Emerson seqs for SONIA (to be used as negative)\n",
    "filename_cdr3raw = './train_data_1.txt' \n",
    "inds_non_overlap = np.loadtxt('./1_inds_nonoverlap_0.txt').astype(np.int16)\n",
    "t_seq0 = []\n",
    "with open(filename_cdr3raw) as f:\n",
    "    for line in f:\n",
    "        linesplit = line.strip().split('\\n')\n",
    "        t_seq0.append(linesplit[0])\n",
    "\n",
    "t_seq = [x.split('\\t') for x in np.array(t_seq0)[inds_non_overlap]]"
   ]
  },
  {
   "cell_type": "code",
   "execution_count": 7,
   "id": "0c7961da",
   "metadata": {},
   "outputs": [],
   "source": [
    "# settings (I am using the average of best k obtained for NLVPMVATV)\n",
    "k = 26"
   ]
  },
  {
   "cell_type": "code",
   "execution_count": 8,
   "id": "d1fe4003",
   "metadata": {
    "scrolled": true
   },
   "outputs": [
    {
     "name": "stderr",
     "output_type": "stream",
     "text": [
      "100%|███████████████████████████████████████████████████████████████████████████████████| 50/50 [00:02<00:00, 19.66it/s]\n"
     ]
    }
   ],
   "source": [
    "AUROCs = []\n",
    "for i in tqdm(range(50)):\n",
    "    #print(\"Working on repl =\", i, \"...\")\n",
    "    repl = i\n",
    "    ## prepare positives (train, test) ##\n",
    "    path_o ='./' + pep + '/indices/index_permutation_repl' + str(repl) + '.txt'\n",
    "    full_intR = (np.loadtxt(path_o)).astype(np.int16)\n",
    "    data = [sonia_input_vdgdb[t] for t in full_intR]\n",
    "    train_data = data[:int(80*len(data)/100)]\n",
    "    val_data = data[int(80*len(data)/100):]\n",
    "    \n",
    "    ## prepare negatives (test) ##\n",
    "    path_o ='./' + pep + '/indices/index_permutationN_repl' + str(repl) + '.txt'\n",
    "    full_intR = (np.loadtxt(path_o)).astype(np.int16)\n",
    "    val_dataN0 = [t_seq[t] for t in full_intR]\n",
    "    val_dataN = val_dataN0[:len(val_data)]\n",
    "    train_dataN = val_dataN0[len(val_data)+1:len(val_data)+len(train_data)]\n",
    "        \n",
    "    res_pos = []\n",
    "    for x in val_data:\n",
    "        ts = x\n",
    "        ave_dists_plus = np.mean(sorted([tcr_dist(ts, x) for x in train_data])[:k])\n",
    "        ave_dists_minus = np.mean(sorted([tcr_dist(ts, x) for x in train_dataN])[:k])\n",
    "        res_pos.append(ave_dists_minus - ave_dists_plus)\n",
    "    \n",
    "    res_pos = np.array(res_pos)\n",
    "    \n",
    "    res_neg = []\n",
    "    for x in val_dataN:\n",
    "        ts = x\n",
    "        ave_dists_plus = np.mean(sorted([tcr_dist(ts, x) for x in train_data])[:k])\n",
    "        ave_dists_minus = np.mean(sorted([tcr_dist(ts, x) for x in train_dataN])[:k])\n",
    "        res_neg.append(ave_dists_minus - ave_dists_plus)\n",
    "        \n",
    "    res_neg = np.array(res_neg)\n",
    "    \n",
    "    scores_positive = res_pos\n",
    "    scores_negative = res_neg    \n",
    "    labels = np.hstack((np.zeros((len(res_neg))), np.ones((len(res_pos))))) \n",
    "    scores = np.hstack((scores_negative, scores_positive))\n",
    "    fpr, tpr, thresholds = metrics.roc_curve(labels, scores)\n",
    "    metrics.auc(fpr, tpr)\n",
    "    AUROCs = np.append(AUROCs, metrics.auc(fpr, tpr))"
   ]
  },
  {
   "cell_type": "code",
   "execution_count": 9,
   "id": "09d9005f",
   "metadata": {},
   "outputs": [
    {
     "data": {
      "text/plain": [
       "(0.9731746031746031, 0.01284574043752873)"
      ]
     },
     "execution_count": 9,
     "metadata": {},
     "output_type": "execute_result"
    }
   ],
   "source": [
    "AUROCs.mean(), AUROCs.std()"
   ]
  },
  {
   "cell_type": "code",
   "execution_count": 10,
   "id": "4707d300",
   "metadata": {},
   "outputs": [],
   "source": [
    "np.savetxt('./' + pep + '/AUROCs_kNN.txt', AUROCs)"
   ]
  },
  {
   "cell_type": "code",
   "execution_count": null,
   "id": "57b5ae82",
   "metadata": {},
   "outputs": [],
   "source": []
  },
  {
   "cell_type": "code",
   "execution_count": null,
   "id": "a3d77bac",
   "metadata": {},
   "outputs": [],
   "source": []
  },
  {
   "cell_type": "code",
   "execution_count": null,
   "id": "20a5ef2b",
   "metadata": {},
   "outputs": [],
   "source": []
  }
 ],
 "metadata": {
  "kernelspec": {
   "display_name": "Python 3 (ipykernel)",
   "language": "python",
   "name": "python3"
  },
  "language_info": {
   "codemirror_mode": {
    "name": "ipython",
    "version": 3
   },
   "file_extension": ".py",
   "mimetype": "text/x-python",
   "name": "python",
   "nbconvert_exporter": "python",
   "pygments_lexer": "ipython3",
   "version": "3.9.10"
  }
 },
 "nbformat": 4,
 "nbformat_minor": 5
}
