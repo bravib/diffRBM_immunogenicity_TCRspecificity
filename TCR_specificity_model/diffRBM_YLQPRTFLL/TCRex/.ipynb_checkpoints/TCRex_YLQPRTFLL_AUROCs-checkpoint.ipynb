{
 "cells": [
  {
   "cell_type": "code",
   "execution_count": 1,
   "id": "71f38fc1",
   "metadata": {},
   "outputs": [],
   "source": [
    "import sys\n",
    "import pandas as pd\n",
    "import numpy as np\n",
    "import matplotlib.pyplot as plt\n",
    "from sklearn import metrics\n",
    "from tqdm import tqdm\n",
    "\n",
    "if not (\"./from_repo/\" in sys.path):\n",
    "    sys.path.append(\"./from_repo/\")\n",
    "    \n",
    "from TCRex_AsScript_fromrepo import encode_peptides\n",
    "from TCRex_AsScript_fromrepo import train_predictor\n",
    "from TCRex_AsScript_fromrepo import score_with_predictor"
   ]
  },
  {
   "cell_type": "code",
   "execution_count": 2,
   "id": "02bdc9ee",
   "metadata": {},
   "outputs": [],
   "source": [
    "def my_AUROC(scores_positive, scores_negative):\n",
    "    labels = np.hstack((np.zeros((len(scores_negative))), np.ones((len(scores_positive))))) \n",
    "    scores = np.hstack((scores_negative, scores_positive))\n",
    "    fpr, tpr, thresholds = metrics.roc_curve(labels, scores)\n",
    "    return metrics.auc(fpr, tpr)"
   ]
  },
  {
   "cell_type": "code",
   "execution_count": 3,
   "id": "91b62c08",
   "metadata": {},
   "outputs": [],
   "source": [
    "# settings\n",
    "pep = \"YLQPRTFLL\""
   ]
  },
  {
   "cell_type": "code",
   "execution_count": 4,
   "id": "8df1925e",
   "metadata": {},
   "outputs": [],
   "source": [
    "# load and prepare peptide-specific seqs for TCRex\n",
    "vdgdb_df = pd.read_csv('../SONIA_WithDatasets/' + pep + '/VDJdb_' + pep + '_WithAligned20.csv')\n",
    "vdgdb_df = vdgdb_df.drop_duplicates().reset_index(drop=True)\n",
    "t_df = vdgdb_df.rename(columns={\"TRBV_gene\": \"V_gene\", \"CDR3_beta\": \"CDR3_sequence\", \"TRBJ_gene\": \"J_gene\"})\n",
    "t_df = t_df.drop(columns=[\"ali_seq\"])\n",
    "pre_Vgenes = t_df[\"V_gene\"].to_list()\n",
    "new_Vgenes = [x.split(\"V\")[1] for x in pre_Vgenes]\n",
    "pre_Jgenes = t_df[\"J_gene\"].to_list()\n",
    "new_Jgenes = [x.split(\"J\")[1] for x in pre_Jgenes]\n",
    "t_df[\"V_gene\"] = new_Vgenes\n",
    "t_df[\"J_gene\"] = new_Jgenes\n",
    "vdgdb2_df = t_df\n",
    "\n",
    "# load and prepare second set of Emerson seqs for TCRex (to be used as negative)\n",
    "filename_cdr3raw = '../SONIA_WithDatasets/train_data_1.txt' \n",
    "inds_non_overlap = np.loadtxt('../SONIA_WithDatasets/1_inds_nonoverlap_0.txt').astype(np.int16)\n",
    "t_seq0 = []\n",
    "with open(filename_cdr3raw) as f:\n",
    "    for line in f:\n",
    "        linesplit = line.strip().split('\\n')\n",
    "        t_seq0.append(linesplit[0])\n",
    "\n",
    "t_seq = [x.split('\\t') for x in np.array(t_seq0)[inds_non_overlap]]\n",
    "ctrl_seqs = [ts[0] for ts in t_seq]\n",
    "ctrl_vgenes = [ts[1].split(\"V\")[1] for ts in t_seq]\n",
    "ctrl_jgenes = [ts[2].split(\"J\")[1] for ts in t_seq]\n",
    "control_df = pd.DataFrame({\"V_gene\":ctrl_vgenes, \"CDR3_sequence\": ctrl_seqs, \"J_gene\":ctrl_jgenes})"
   ]
  },
  {
   "cell_type": "code",
   "execution_count": 5,
   "id": "b4583576",
   "metadata": {
    "scrolled": true
   },
   "outputs": [
    {
     "name": "stderr",
     "output_type": "stream",
     "text": [
      "\r",
      "  0%|                                                                                            | 0/50 [00:00<?, ?it/s]"
     ]
    },
    {
     "name": "stdout",
     "output_type": "stream",
     "text": [
      "Working on repl = 0 ...\n"
     ]
    },
    {
     "name": "stderr",
     "output_type": "stream",
     "text": [
      "\r",
      "  2%|█▋                                                                                  | 1/50 [00:01<00:56,  1.14s/it]"
     ]
    },
    {
     "name": "stdout",
     "output_type": "stream",
     "text": [
      "Working on repl = 1 ...\n"
     ]
    },
    {
     "name": "stderr",
     "output_type": "stream",
     "text": [
      "\r",
      "  4%|███▎                                                                                | 2/50 [00:02<00:57,  1.20s/it]"
     ]
    },
    {
     "name": "stdout",
     "output_type": "stream",
     "text": [
      "Working on repl = 2 ...\n"
     ]
    },
    {
     "name": "stderr",
     "output_type": "stream",
     "text": [
      "\r",
      "  6%|█████                                                                               | 3/50 [00:03<00:57,  1.23s/it]"
     ]
    },
    {
     "name": "stdout",
     "output_type": "stream",
     "text": [
      "Working on repl = 3 ...\n"
     ]
    },
    {
     "name": "stderr",
     "output_type": "stream",
     "text": [
      "\r",
      "  8%|██████▋                                                                             | 4/50 [00:04<00:54,  1.18s/it]"
     ]
    },
    {
     "name": "stdout",
     "output_type": "stream",
     "text": [
      "Working on repl = 4 ...\n"
     ]
    },
    {
     "name": "stderr",
     "output_type": "stream",
     "text": [
      "\r",
      " 10%|████████▍                                                                           | 5/50 [00:05<00:52,  1.17s/it]"
     ]
    },
    {
     "name": "stdout",
     "output_type": "stream",
     "text": [
      "Working on repl = 5 ...\n"
     ]
    },
    {
     "name": "stderr",
     "output_type": "stream",
     "text": [
      "\r",
      " 12%|██████████                                                                          | 6/50 [00:07<00:51,  1.17s/it]"
     ]
    },
    {
     "name": "stdout",
     "output_type": "stream",
     "text": [
      "Working on repl = 6 ...\n"
     ]
    },
    {
     "name": "stderr",
     "output_type": "stream",
     "text": [
      "\r",
      " 14%|███████████▊                                                                        | 7/50 [00:08<00:53,  1.24s/it]"
     ]
    },
    {
     "name": "stdout",
     "output_type": "stream",
     "text": [
      "Working on repl = 7 ...\n"
     ]
    },
    {
     "name": "stderr",
     "output_type": "stream",
     "text": [
      "\r",
      " 16%|█████████████▍                                                                      | 8/50 [00:09<00:50,  1.21s/it]"
     ]
    },
    {
     "name": "stdout",
     "output_type": "stream",
     "text": [
      "Working on repl = 8 ...\n"
     ]
    },
    {
     "name": "stderr",
     "output_type": "stream",
     "text": [
      "\r",
      " 18%|███████████████                                                                     | 9/50 [00:10<00:49,  1.20s/it]"
     ]
    },
    {
     "name": "stdout",
     "output_type": "stream",
     "text": [
      "Working on repl = 9 ...\n"
     ]
    },
    {
     "name": "stderr",
     "output_type": "stream",
     "text": [
      "\r",
      " 20%|████████████████▌                                                                  | 10/50 [00:11<00:47,  1.19s/it]"
     ]
    },
    {
     "name": "stdout",
     "output_type": "stream",
     "text": [
      "Working on repl = 10 ...\n"
     ]
    },
    {
     "name": "stderr",
     "output_type": "stream",
     "text": [
      "\r",
      " 22%|██████████████████▎                                                                | 11/50 [00:13<00:48,  1.24s/it]"
     ]
    },
    {
     "name": "stdout",
     "output_type": "stream",
     "text": [
      "Working on repl = 11 ...\n"
     ]
    },
    {
     "name": "stderr",
     "output_type": "stream",
     "text": [
      "\r",
      " 24%|███████████████████▉                                                               | 12/50 [00:14<00:46,  1.22s/it]"
     ]
    },
    {
     "name": "stdout",
     "output_type": "stream",
     "text": [
      "Working on repl = 12 ...\n"
     ]
    },
    {
     "name": "stderr",
     "output_type": "stream",
     "text": [
      "\r",
      " 26%|█████████████████████▌                                                             | 13/50 [00:15<00:44,  1.21s/it]"
     ]
    },
    {
     "name": "stdout",
     "output_type": "stream",
     "text": [
      "Working on repl = 13 ...\n"
     ]
    },
    {
     "name": "stderr",
     "output_type": "stream",
     "text": [
      "\r",
      " 28%|███████████████████████▏                                                           | 14/50 [00:16<00:43,  1.21s/it]"
     ]
    },
    {
     "name": "stdout",
     "output_type": "stream",
     "text": [
      "Working on repl = 14 ...\n"
     ]
    },
    {
     "name": "stderr",
     "output_type": "stream",
     "text": [
      "\r",
      " 30%|████████████████████████▉                                                          | 15/50 [00:18<00:42,  1.21s/it]"
     ]
    },
    {
     "name": "stdout",
     "output_type": "stream",
     "text": [
      "Working on repl = 15 ...\n"
     ]
    },
    {
     "name": "stderr",
     "output_type": "stream",
     "text": [
      "\r",
      " 32%|██████████████████████████▌                                                        | 16/50 [00:19<00:40,  1.20s/it]"
     ]
    },
    {
     "name": "stdout",
     "output_type": "stream",
     "text": [
      "Working on repl = 16 ...\n"
     ]
    },
    {
     "name": "stderr",
     "output_type": "stream",
     "text": [
      "\r",
      " 34%|████████████████████████████▏                                                      | 17/50 [00:20<00:38,  1.17s/it]"
     ]
    },
    {
     "name": "stdout",
     "output_type": "stream",
     "text": [
      "Working on repl = 17 ...\n"
     ]
    },
    {
     "name": "stderr",
     "output_type": "stream",
     "text": [
      "\r",
      " 36%|█████████████████████████████▉                                                     | 18/50 [00:21<00:37,  1.18s/it]"
     ]
    },
    {
     "name": "stdout",
     "output_type": "stream",
     "text": [
      "Working on repl = 18 ...\n"
     ]
    },
    {
     "name": "stderr",
     "output_type": "stream",
     "text": [
      "\r",
      " 38%|███████████████████████████████▌                                                   | 19/50 [00:22<00:36,  1.19s/it]"
     ]
    },
    {
     "name": "stdout",
     "output_type": "stream",
     "text": [
      "Working on repl = 19 ...\n"
     ]
    },
    {
     "name": "stderr",
     "output_type": "stream",
     "text": [
      "\r",
      " 40%|█████████████████████████████████▏                                                 | 20/50 [00:23<00:35,  1.19s/it]"
     ]
    },
    {
     "name": "stdout",
     "output_type": "stream",
     "text": [
      "Working on repl = 20 ...\n"
     ]
    },
    {
     "name": "stderr",
     "output_type": "stream",
     "text": [
      "\r",
      " 42%|██████████████████████████████████▊                                                | 21/50 [00:25<00:33,  1.17s/it]"
     ]
    },
    {
     "name": "stdout",
     "output_type": "stream",
     "text": [
      "Working on repl = 21 ...\n"
     ]
    },
    {
     "name": "stderr",
     "output_type": "stream",
     "text": [
      "\r",
      " 44%|████████████████████████████████████▌                                              | 22/50 [00:26<00:33,  1.19s/it]"
     ]
    },
    {
     "name": "stdout",
     "output_type": "stream",
     "text": [
      "Working on repl = 22 ...\n"
     ]
    },
    {
     "name": "stderr",
     "output_type": "stream",
     "text": [
      "\r",
      " 46%|██████████████████████████████████████▏                                            | 23/50 [00:27<00:32,  1.19s/it]"
     ]
    },
    {
     "name": "stdout",
     "output_type": "stream",
     "text": [
      "Working on repl = 23 ...\n"
     ]
    },
    {
     "name": "stderr",
     "output_type": "stream",
     "text": [
      "\r",
      " 48%|███████████████████████████████████████▊                                           | 24/50 [00:28<00:30,  1.17s/it]"
     ]
    },
    {
     "name": "stdout",
     "output_type": "stream",
     "text": [
      "Working on repl = 24 ...\n"
     ]
    },
    {
     "name": "stderr",
     "output_type": "stream",
     "text": [
      "\r",
      " 50%|█████████████████████████████████████████▌                                         | 25/50 [00:29<00:28,  1.15s/it]"
     ]
    },
    {
     "name": "stdout",
     "output_type": "stream",
     "text": [
      "Working on repl = 25 ...\n"
     ]
    },
    {
     "name": "stderr",
     "output_type": "stream",
     "text": [
      "\r",
      " 52%|███████████████████████████████████████████▏                                       | 26/50 [00:30<00:27,  1.16s/it]"
     ]
    },
    {
     "name": "stdout",
     "output_type": "stream",
     "text": [
      "Working on repl = 26 ...\n"
     ]
    },
    {
     "name": "stderr",
     "output_type": "stream",
     "text": [
      "\r",
      " 54%|████████████████████████████████████████████▊                                      | 27/50 [00:32<00:27,  1.18s/it]"
     ]
    },
    {
     "name": "stdout",
     "output_type": "stream",
     "text": [
      "Working on repl = 27 ...\n"
     ]
    },
    {
     "name": "stderr",
     "output_type": "stream",
     "text": [
      "\r",
      " 56%|██████████████████████████████████████████████▍                                    | 28/50 [00:33<00:25,  1.18s/it]"
     ]
    },
    {
     "name": "stdout",
     "output_type": "stream",
     "text": [
      "Working on repl = 28 ...\n"
     ]
    },
    {
     "name": "stderr",
     "output_type": "stream",
     "text": [
      "\r",
      " 58%|████████████████████████████████████████████████▏                                  | 29/50 [00:34<00:24,  1.17s/it]"
     ]
    },
    {
     "name": "stdout",
     "output_type": "stream",
     "text": [
      "Working on repl = 29 ...\n"
     ]
    },
    {
     "name": "stderr",
     "output_type": "stream",
     "text": [
      "\r",
      " 60%|█████████████████████████████████████████████████▊                                 | 30/50 [00:35<00:23,  1.18s/it]"
     ]
    },
    {
     "name": "stdout",
     "output_type": "stream",
     "text": [
      "Working on repl = 30 ...\n"
     ]
    },
    {
     "name": "stderr",
     "output_type": "stream",
     "text": [
      "\r",
      " 62%|███████████████████████████████████████████████████▍                               | 31/50 [00:36<00:22,  1.19s/it]"
     ]
    },
    {
     "name": "stdout",
     "output_type": "stream",
     "text": [
      "Working on repl = 31 ...\n"
     ]
    },
    {
     "name": "stderr",
     "output_type": "stream",
     "text": [
      "\r",
      " 64%|█████████████████████████████████████████████████████                              | 32/50 [00:38<00:21,  1.19s/it]"
     ]
    },
    {
     "name": "stdout",
     "output_type": "stream",
     "text": [
      "Working on repl = 32 ...\n"
     ]
    },
    {
     "name": "stderr",
     "output_type": "stream",
     "text": [
      "\r",
      " 66%|██████████████████████████████████████████████████████▊                            | 33/50 [00:39<00:20,  1.19s/it]"
     ]
    },
    {
     "name": "stdout",
     "output_type": "stream",
     "text": [
      "Working on repl = 33 ...\n"
     ]
    },
    {
     "name": "stderr",
     "output_type": "stream",
     "text": [
      "\r",
      " 68%|████████████████████████████████████████████████████████▍                          | 34/50 [00:40<00:19,  1.21s/it]"
     ]
    },
    {
     "name": "stdout",
     "output_type": "stream",
     "text": [
      "Working on repl = 34 ...\n"
     ]
    },
    {
     "name": "stderr",
     "output_type": "stream",
     "text": [
      "\r",
      " 70%|██████████████████████████████████████████████████████████                         | 35/50 [00:41<00:18,  1.20s/it]"
     ]
    },
    {
     "name": "stdout",
     "output_type": "stream",
     "text": [
      "Working on repl = 35 ...\n"
     ]
    },
    {
     "name": "stderr",
     "output_type": "stream",
     "text": [
      "\r",
      " 72%|███████████████████████████████████████████████████████████▊                       | 36/50 [00:42<00:16,  1.20s/it]"
     ]
    },
    {
     "name": "stdout",
     "output_type": "stream",
     "text": [
      "Working on repl = 36 ...\n"
     ]
    },
    {
     "name": "stderr",
     "output_type": "stream",
     "text": [
      "\r",
      " 74%|█████████████████████████████████████████████████████████████▍                     | 37/50 [00:44<00:15,  1.22s/it]"
     ]
    },
    {
     "name": "stdout",
     "output_type": "stream",
     "text": [
      "Working on repl = 37 ...\n"
     ]
    },
    {
     "name": "stderr",
     "output_type": "stream",
     "text": [
      "\r",
      " 76%|███████████████████████████████████████████████████████████████                    | 38/50 [00:45<00:14,  1.23s/it]"
     ]
    },
    {
     "name": "stdout",
     "output_type": "stream",
     "text": [
      "Working on repl = 38 ...\n"
     ]
    },
    {
     "name": "stderr",
     "output_type": "stream",
     "text": [
      "\r",
      " 78%|████████████████████████████████████████████████████████████████▋                  | 39/50 [00:46<00:13,  1.23s/it]"
     ]
    },
    {
     "name": "stdout",
     "output_type": "stream",
     "text": [
      "Working on repl = 39 ...\n"
     ]
    },
    {
     "name": "stderr",
     "output_type": "stream",
     "text": [
      "\r",
      " 80%|██████████████████████████████████████████████████████████████████▍                | 40/50 [00:47<00:12,  1.22s/it]"
     ]
    },
    {
     "name": "stdout",
     "output_type": "stream",
     "text": [
      "Working on repl = 40 ...\n"
     ]
    },
    {
     "name": "stderr",
     "output_type": "stream",
     "text": [
      "\r",
      " 82%|████████████████████████████████████████████████████████████████████               | 41/50 [00:49<00:10,  1.20s/it]"
     ]
    },
    {
     "name": "stdout",
     "output_type": "stream",
     "text": [
      "Working on repl = 41 ...\n"
     ]
    },
    {
     "name": "stderr",
     "output_type": "stream",
     "text": [
      "\r",
      " 84%|█████████████████████████████████████████████████████████████████████▋             | 42/50 [00:50<00:09,  1.22s/it]"
     ]
    },
    {
     "name": "stdout",
     "output_type": "stream",
     "text": [
      "Working on repl = 42 ...\n"
     ]
    },
    {
     "name": "stderr",
     "output_type": "stream",
     "text": [
      "\r",
      " 86%|███████████████████████████████████████████████████████████████████████▍           | 43/50 [00:51<00:08,  1.23s/it]"
     ]
    },
    {
     "name": "stdout",
     "output_type": "stream",
     "text": [
      "Working on repl = 43 ...\n"
     ]
    },
    {
     "name": "stderr",
     "output_type": "stream",
     "text": [
      "\r",
      " 88%|█████████████████████████████████████████████████████████████████████████          | 44/50 [00:52<00:07,  1.22s/it]"
     ]
    },
    {
     "name": "stdout",
     "output_type": "stream",
     "text": [
      "Working on repl = 44 ...\n"
     ]
    },
    {
     "name": "stderr",
     "output_type": "stream",
     "text": [
      "\r",
      " 90%|██████████████████████████████████████████████████████████████████████████▋        | 45/50 [00:53<00:05,  1.19s/it]"
     ]
    },
    {
     "name": "stdout",
     "output_type": "stream",
     "text": [
      "Working on repl = 45 ...\n"
     ]
    },
    {
     "name": "stderr",
     "output_type": "stream",
     "text": [
      "\r",
      " 92%|████████████████████████████████████████████████████████████████████████████▎      | 46/50 [00:55<00:04,  1.21s/it]"
     ]
    },
    {
     "name": "stdout",
     "output_type": "stream",
     "text": [
      "Working on repl = 46 ...\n"
     ]
    },
    {
     "name": "stderr",
     "output_type": "stream",
     "text": [
      "\r",
      " 94%|██████████████████████████████████████████████████████████████████████████████     | 47/50 [00:56<00:03,  1.19s/it]"
     ]
    },
    {
     "name": "stdout",
     "output_type": "stream",
     "text": [
      "Working on repl = 47 ...\n"
     ]
    },
    {
     "name": "stderr",
     "output_type": "stream",
     "text": [
      "\r",
      " 96%|███████████████████████████████████████████████████████████████████████████████▋   | 48/50 [00:57<00:02,  1.18s/it]"
     ]
    },
    {
     "name": "stdout",
     "output_type": "stream",
     "text": [
      "Working on repl = 48 ...\n"
     ]
    },
    {
     "name": "stderr",
     "output_type": "stream",
     "text": [
      "\r",
      " 98%|█████████████████████████████████████████████████████████████████████████████████▎ | 49/50 [00:58<00:01,  1.18s/it]"
     ]
    },
    {
     "name": "stdout",
     "output_type": "stream",
     "text": [
      "Working on repl = 49 ...\n"
     ]
    },
    {
     "name": "stderr",
     "output_type": "stream",
     "text": [
      "100%|███████████████████████████████████████████████████████████████████████████████████| 50/50 [00:59<00:00,  1.20s/it]\n"
     ]
    }
   ],
   "source": [
    "# compute train and test AUROC for each positive-negative splitting\n",
    "train_AUROCs = []\n",
    "test_AUROCs = []\n",
    "for i in tqdm(range(50)):\n",
    "    print(\"Working on repl =\", i, \"...\")\n",
    "    repl = i\n",
    "    ## prepare positives (train, test) ##\n",
    "    path_o ='../SONIA_WithDatasets/' + pep + '/indices/index_permutation_repl' + str(repl) + '.txt'\n",
    "    full_intR = (np.loadtxt(path_o)).astype(np.int16)\n",
    "    data = vdgdb2_df.iloc[full_intR]\n",
    "    train_data = data[:int(80*len(data)/100)]\n",
    "    val_data = data[int(80*len(data)/100):]\n",
    "    \n",
    "    ## prepare negatives (train, test) ##\n",
    "    path_o ='../SONIA_WithDatasets/' + pep + '/indices/index_permutationN_repl' + str(repl) + '.txt'\n",
    "    full_intR = (np.loadtxt(path_o)).astype(np.int16)\n",
    "    val_dataN0 = control_df.iloc[full_intR]\n",
    "    val_dataN = val_dataN0[:len(val_data)]\n",
    "    train_dataN = val_dataN0[len(val_data)+1:len(val_data)+len(train_data)]\n",
    "    \n",
    "    # prepare encoded train and test data\n",
    "    PN_train_test_data = pd.concat([train_data, train_dataN, val_data, val_dataN]).reset_index(drop=True)\n",
    "    idx_trainP = np.concatenate([np.full(len(train_data), 1), np.full(len(train_dataN), 0), \n",
    "                                    np.full(len(val_data), 0), np.full(len(val_dataN), 0)]).astype(np.bool8)\n",
    "    idx_trainN = np.concatenate([np.full(len(train_data), 0), np.full(len(train_dataN), 1), \n",
    "                                    np.full(len(val_data), 0), np.full(len(val_dataN), 0)]).astype(np.bool8)\n",
    "    idx_testP = np.concatenate([np.full(len(train_data), 0), np.full(len(train_dataN), 0), \n",
    "                                    np.full(len(val_data), 1), np.full(len(val_dataN), 0)]).astype(np.bool8)\n",
    "    idx_testN = np.concatenate([np.full(len(train_data), 0), np.full(len(train_dataN), 0), \n",
    "                                    np.full(len(val_data), 0), np.full(len(val_dataN), 1)]).astype(np.bool8)\n",
    "    new_PN_train_test_data, X = encode_peptides(PN_train_test_data)\n",
    "    assert len(PN_train_test_data) == len(new_PN_train_test_data), \"Problem with split_rows function cutting away some data points...\"\n",
    "    assert PN_train_test_data[\"CDR3_sequence\"].to_list() == new_PN_train_test_data[\"CDR3_sequence\"].to_list()\n",
    "    \n",
    "#    X_train = X[:len(train_data)+len(train_dataN)]\n",
    "    X_train = X[idx_trainP + idx_trainN]\n",
    "    y_train = np.concatenate([np.full(len(train_data), 1), np.full(len(train_dataN), 0)])\n",
    "    \n",
    "    # train predictor\n",
    "    trained_predictor = train_predictor(X_train, y_train) # here I can specifiy n_trees and boruta_perc\n",
    "    \n",
    "    # train AUROC\n",
    "    X_trainpos = X[idx_trainP]\n",
    "    X_trainneg = X[idx_trainN]\n",
    "    res_pos = score_with_predictor(X_trainpos, trained_predictor)\n",
    "    res_neg = score_with_predictor(X_trainneg, trained_predictor)\n",
    "    train_AUROCs.append(my_AUROC(res_pos, res_neg))\n",
    "    \n",
    "    # prepare encoded test data\n",
    "    X_testpos = X[idx_testP]\n",
    "    X_testneg = X[idx_testN]\n",
    "    \n",
    "    # compute scores of positives, negatives, and AUROC\n",
    "    res_pos = score_with_predictor(X_testpos, trained_predictor)\n",
    "    res_neg = score_with_predictor(X_testneg, trained_predictor)\n",
    "    test_AUROCs.append(my_AUROC(res_pos, res_neg))\n",
    "#    print(test_AUROCs[-1])"
   ]
  },
  {
   "cell_type": "code",
   "execution_count": 6,
   "id": "90b4beb0",
   "metadata": {},
   "outputs": [
    {
     "data": {
      "text/plain": [
       "(1.0, 3.845925372767128e-17)"
      ]
     },
     "execution_count": 6,
     "metadata": {},
     "output_type": "execute_result"
    }
   ],
   "source": [
    "np.savetxt('./results/AUROCs_'+pep+'_TCRex_train.txt', train_AUROCs)\n",
    "np.mean(train_AUROCs), np.std(train_AUROCs)"
   ]
  },
  {
   "cell_type": "code",
   "execution_count": 7,
   "id": "e588bc6b",
   "metadata": {
    "scrolled": true
   },
   "outputs": [
    {
     "data": {
      "text/plain": [
       "(0.9838246409674981, 0.009614692058856922)"
      ]
     },
     "execution_count": 7,
     "metadata": {},
     "output_type": "execute_result"
    }
   ],
   "source": [
    "np.savetxt('./results/AUROCs_'+pep+'_TCRex_test.txt', test_AUROCs)\n",
    "np.mean(test_AUROCs), np.std(test_AUROCs)"
   ]
  },
  {
   "cell_type": "code",
   "execution_count": 8,
   "id": "f00617c6",
   "metadata": {
    "scrolled": false
   },
   "outputs": [
    {
     "data": {
      "text/plain": [
       "Text(0, 0.5, \"'TCRex' AUROC\")"
      ]
     },
     "execution_count": 8,
     "metadata": {},
     "output_type": "execute_result"
    },
    {
     "data": {
      "image/png": "[encoded data removed]",
      "text/plain": [
       "<Figure size 720x504 with 1 Axes>"
      ]
     },
     "metadata": {
      "needs_background": "light"
     },
     "output_type": "display_data"
    }
   ],
   "source": [
    "fig = plt.figure(figsize=(10,7))\n",
    "gs = fig.add_gridspec(ncols=1, nrows=1, wspace=0.1, hspace=0.2)\n",
    "\n",
    "ax = fig.add_subplot(gs[0,0])\n",
    "ax.boxplot([train_AUROCs, test_AUROCs])\n",
    "\n",
    "ax.tick_params(axis='both', direction='in', length=6, width=2, colors='k')\n",
    "ax.tick_params(which='minor', direction='in', length=0, width=2, colors='k')\n",
    "ax.tick_params(axis='both', labelsize=18)\n",
    "ax.set_xticklabels([\"train\",\"test\"])\n",
    "ax.set_ylabel(\"'TCRex' AUROC\", fontsize=20)"
   ]
  },
  {
   "cell_type": "code",
   "execution_count": null,
   "id": "1f57ec72",
   "metadata": {},
   "outputs": [],
   "source": []
  },
  {
   "cell_type": "code",
   "execution_count": null,
   "id": "ffa58d23",
   "metadata": {},
   "outputs": [],
   "source": []
  },
  {
   "cell_type": "code",
   "execution_count": null,
   "id": "f731da70",
   "metadata": {},
   "outputs": [],
   "source": []
  },
  {
   "cell_type": "code",
   "execution_count": null,
   "id": "a28db011",
   "metadata": {},
   "outputs": [],
   "source": []
  }
 ],
 "metadata": {
  "kernelspec": {
   "display_name": "Python 3 (ipykernel)",
   "language": "python",
   "name": "python3"
  },
  "language_info": {
   "codemirror_mode": {
    "name": "ipython",
    "version": 3
   },
   "file_extension": ".py",
   "mimetype": "text/x-python",
   "name": "python",
   "nbconvert_exporter": "python",
   "pygments_lexer": "ipython3",
   "version": "3.9.10"
  }
 },
 "nbformat": 4,
 "nbformat_minor": 5
}
