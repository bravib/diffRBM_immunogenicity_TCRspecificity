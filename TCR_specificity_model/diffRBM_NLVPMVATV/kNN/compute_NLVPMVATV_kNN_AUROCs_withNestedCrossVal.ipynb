{
 "cells": [
  {
   "cell_type": "code",
   "execution_count": 81,
   "id": "6061d132",
   "metadata": {},
   "outputs": [],
   "source": [
    "import pandas as pd\n",
    "import numpy as np\n",
    "import matplotlib.pyplot as plt\n",
    "from sklearn import metrics\n",
    "from os.path import exists\n",
    "from tqdm import tqdm\n",
    "\n",
    "from Levenshtein import distance\n",
    "\n",
    "%matplotlib inline"
   ]
  },
  {
   "cell_type": "code",
   "execution_count": 3,
   "id": "b1b86c78",
   "metadata": {},
   "outputs": [],
   "source": [
    "def tcr_dist(tcr1, tcr2):\n",
    "    d0 = distance(tcr1[0], tcr2[0])\n",
    "    d1 = 1 - int(tcr1[1] == tcr2[1])\n",
    "    d2 = 1 - int(tcr1[2] == tcr2[2])\n",
    "    return d0 + d1 + d2"
   ]
  },
  {
   "cell_type": "code",
   "execution_count": 4,
   "id": "6e647024",
   "metadata": {},
   "outputs": [],
   "source": [
    "# settings\n",
    "pep = \"NLVPMVATV\""
   ]
  },
  {
   "cell_type": "code",
   "execution_count": 5,
   "id": "953a22c0",
   "metadata": {},
   "outputs": [],
   "source": [
    "# load and prepare peptide-specific seqs for SONIA\n",
    "vdgdb_df = pd.read_csv('./' + pep + '/VDJdb_' + pep + '_WithAligned20.csv')\n",
    "vdgdb_df = vdgdb_df.drop_duplicates().reset_index(drop=True)\n",
    "t_seqs = vdgdb_df['CDR3_beta'].to_list()\n",
    "t_v = vdgdb_df['TRBV_gene'].to_list()\n",
    "t_j = vdgdb_df['TRBJ_gene'].to_list()\n",
    "sonia_input_vdgdb = [list(a) for a in zip(t_seqs, t_v, t_j)]"
   ]
  },
  {
   "cell_type": "code",
   "execution_count": 6,
   "id": "90d76bc3",
   "metadata": {},
   "outputs": [],
   "source": [
    "# load and prepare second set of Emerson seqs for SONIA (to be used as negative)\n",
    "filename_cdr3raw = './train_data_1.txt' \n",
    "inds_non_overlap = np.loadtxt('./1_inds_nonoverlap_0.txt').astype(np.int16)\n",
    "t_seq0 = []\n",
    "with open(filename_cdr3raw) as f:\n",
    "    for line in f:\n",
    "        linesplit = line.strip().split('\\n')\n",
    "        t_seq0.append(linesplit[0])\n",
    "\n",
    "t_seq = [x.split('\\t') for x in np.array(t_seq0)[inds_non_overlap]]"
   ]
  },
  {
   "cell_type": "code",
   "execution_count": null,
   "id": "e71e442b",
   "metadata": {},
   "outputs": [],
   "source": []
  },
  {
   "cell_type": "code",
   "execution_count": null,
   "id": "5c3e07e4",
   "metadata": {},
   "outputs": [],
   "source": []
  },
  {
   "cell_type": "markdown",
   "id": "851246ea",
   "metadata": {},
   "source": [
    "# EXAMPLE with repl = 0"
   ]
  },
  {
   "cell_type": "code",
   "execution_count": 78,
   "id": "947a0aac",
   "metadata": {},
   "outputs": [],
   "source": [
    "repl = 0\n",
    "## prepare positives (train, test) ##\n",
    "path_o ='./' + pep + '/indices/index_permutation_repl' + str(repl) + '.txt'\n",
    "full_intR = (np.loadtxt(path_o)).astype(np.int16)\n",
    "data = [sonia_input_vdgdb[t] for t in full_intR]\n",
    "train_data = data[:int(80*len(data)/100)]\n",
    "test_data = data[int(80*len(data)/100):]\n",
    "\n",
    "## prepare negatives (test) ##\n",
    "path_o ='./' + pep + '/indices/index_permutationN_repl' + str(repl) + '.txt'\n",
    "full_intR = (np.loadtxt(path_o)).astype(np.int16)\n",
    "test_dataN0 = [t_seq[t] for t in full_intR]\n",
    "test_dataN = val_dataN0[:len(val_data)]\n",
    "train_dataN = val_dataN0[len(val_data)+1:len(val_data)+len(train_data)+1]"
   ]
  },
  {
   "cell_type": "code",
   "execution_count": 88,
   "id": "95f72287",
   "metadata": {},
   "outputs": [],
   "source": [
    "L_val = int(0.2 * len(train_data))\n",
    "\n",
    "rng = np.random.default_rng(1)\n",
    "rng.shuffle(train_data)\n",
    "rng.shuffle(train_dataN)\n",
    "\n",
    "temp_train = train_data[:-L_val]\n",
    "temp_val = train_data[-L_val:]\n",
    "temp_trainN = train_dataN[:-L_val]\n",
    "temp_valN = train_dataN[-L_val:]"
   ]
  },
  {
   "cell_type": "code",
   "execution_count": 100,
   "id": "14e02ae5",
   "metadata": {},
   "outputs": [
    {
     "name": "stderr",
     "output_type": "stream",
     "text": [
      "100%|███████████████████████████████████████████████████████████████████████████████████| 50/50 [03:23<00:00,  4.06s/it]\n"
     ]
    }
   ],
   "source": [
    "AUCs = []\n",
    "for k in tqdm(range(1, 51)):\n",
    "    # compute AUROC\n",
    "    res_pos = []\n",
    "    for x in temp_val:\n",
    "        ts = x\n",
    "        ave_dists_plus = np.mean(sorted([tcr_dist(ts, x) for x in temp_train])[:k])\n",
    "        ave_dists_minus = np.mean(sorted([tcr_dist(ts, x) for x in temp_trainN])[:k])\n",
    "        res_pos.append(ave_dists_minus - ave_dists_plus)\n",
    "    res_pos = np.array(res_pos)\n",
    "    \n",
    "    res_neg = []\n",
    "    for x in temp_valN:\n",
    "        ts = x\n",
    "        ave_dists_plus = np.mean(sorted([tcr_dist(ts, x) for x in temp_train])[:k])\n",
    "        ave_dists_minus = np.mean(sorted([tcr_dist(ts, x) for x in temp_trainN])[:k])\n",
    "        res_neg.append(ave_dists_minus - ave_dists_plus)\n",
    "    res_neg = np.array(res_neg)\n",
    "    \n",
    "    scores_positive = res_pos\n",
    "    scores_negative = res_neg    \n",
    "    labels = np.hstack((np.zeros((len(res_neg))), np.ones((len(res_pos))))) \n",
    "    scores = np.hstack((scores_negative, scores_positive))\n",
    "    fpr, tpr, thresholds = metrics.roc_curve(labels, scores)\n",
    "    AUCs.append(metrics.auc(fpr, tpr))   "
   ]
  },
  {
   "cell_type": "code",
   "execution_count": 102,
   "id": "749e0315",
   "metadata": {},
   "outputs": [
    {
     "data": {
      "text/plain": [
       "[<matplotlib.lines.Line2D at 0x7f1f8439d190>]"
      ]
     },
     "execution_count": 102,
     "metadata": {},
     "output_type": "execute_result"
    },
    {
     "data": {
      "image/png": "[encoded data removed]",
      "text/plain": [
       "<Figure size 432x288 with 1 Axes>"
      ]
     },
     "metadata": {
      "needs_background": "light"
     },
     "output_type": "display_data"
    }
   ],
   "source": [
    "plt.plot(AUCs)"
   ]
  },
  {
   "cell_type": "code",
   "execution_count": 104,
   "id": "fcedda62",
   "metadata": {},
   "outputs": [
    {
     "data": {
      "text/plain": [
       "27"
      ]
     },
     "execution_count": 104,
     "metadata": {},
     "output_type": "execute_result"
    }
   ],
   "source": [
    "k = np.argmax(AUCs) + 1\n",
    "k"
   ]
  },
  {
   "cell_type": "code",
   "execution_count": 105,
   "id": "b6d3fc15",
   "metadata": {},
   "outputs": [
    {
     "data": {
      "text/plain": [
       "0.7075697379543533"
      ]
     },
     "execution_count": 105,
     "metadata": {},
     "output_type": "execute_result"
    }
   ],
   "source": [
    "# compute AUROC of test set with the best k \n",
    "res_pos = []\n",
    "for x in test_data:\n",
    "    ts = x\n",
    "    ave_dists_plus = np.mean(sorted([tcr_dist(ts, x) for x in train_data])[:k])\n",
    "    ave_dists_minus = np.mean(sorted([tcr_dist(ts, x) for x in train_dataN])[:k])\n",
    "    res_pos.append(ave_dists_minus - ave_dists_plus)\n",
    "res_pos = np.array(res_pos)\n",
    "\n",
    "res_neg = []\n",
    "for x in test_dataN:\n",
    "    ts = x\n",
    "    ave_dists_plus = np.mean(sorted([tcr_dist(ts, x) for x in train_data])[:k])\n",
    "    ave_dists_minus = np.mean(sorted([tcr_dist(ts, x) for x in train_dataN])[:k])\n",
    "    res_neg.append(ave_dists_minus - ave_dists_plus)\n",
    "res_neg = np.array(res_neg)\n",
    "\n",
    "scores_positive = res_pos\n",
    "scores_negative = res_neg    \n",
    "labels = np.hstack((np.zeros((len(res_neg))), np.ones((len(res_pos))))) \n",
    "scores = np.hstack((scores_negative, scores_positive))\n",
    "fpr, tpr, thresholds = metrics.roc_curve(labels, scores)\n",
    "metrics.auc(fpr, tpr)"
   ]
  },
  {
   "cell_type": "code",
   "execution_count": null,
   "id": "5ef03c48",
   "metadata": {},
   "outputs": [],
   "source": []
  },
  {
   "cell_type": "code",
   "execution_count": null,
   "id": "2f210207",
   "metadata": {},
   "outputs": [],
   "source": [
    "# now we run the full thing (starting from k = 5 and ending in 40 this time)"
   ]
  },
  {
   "cell_type": "code",
   "execution_count": 115,
   "id": "8ce53c0c",
   "metadata": {
    "scrolled": true
   },
   "outputs": [
    {
     "name": "stdout",
     "output_type": "stream",
     "text": [
      "Working on repl = 0 ...\n"
     ]
    },
    {
     "name": "stderr",
     "output_type": "stream",
     "text": [
      "100%|███████████████████████████████████████████████████████████████████████████████████| 46/46 [03:16<00:00,  4.27s/it]\n"
     ]
    },
    {
     "name": "stdout",
     "output_type": "stream",
     "text": [
      "Working on repl = 1 ...\n"
     ]
    },
    {
     "name": "stderr",
     "output_type": "stream",
     "text": [
      "100%|███████████████████████████████████████████████████████████████████████████████████| 46/46 [03:14<00:00,  4.22s/it]\n"
     ]
    },
    {
     "name": "stdout",
     "output_type": "stream",
     "text": [
      "Working on repl = 2 ...\n"
     ]
    },
    {
     "name": "stderr",
     "output_type": "stream",
     "text": [
      "100%|███████████████████████████████████████████████████████████████████████████████████| 46/46 [03:09<00:00,  4.12s/it]\n"
     ]
    },
    {
     "name": "stdout",
     "output_type": "stream",
     "text": [
      "Working on repl = 3 ...\n"
     ]
    },
    {
     "name": "stderr",
     "output_type": "stream",
     "text": [
      "100%|███████████████████████████████████████████████████████████████████████████████████| 46/46 [03:13<00:00,  4.20s/it]\n"
     ]
    },
    {
     "name": "stdout",
     "output_type": "stream",
     "text": [
      "Working on repl = 4 ...\n"
     ]
    },
    {
     "name": "stderr",
     "output_type": "stream",
     "text": [
      "100%|███████████████████████████████████████████████████████████████████████████████████| 46/46 [03:15<00:00,  4.24s/it]\n"
     ]
    },
    {
     "name": "stdout",
     "output_type": "stream",
     "text": [
      "Working on repl = 5 ...\n"
     ]
    },
    {
     "name": "stderr",
     "output_type": "stream",
     "text": [
      "100%|███████████████████████████████████████████████████████████████████████████████████| 46/46 [03:10<00:00,  4.15s/it]\n"
     ]
    },
    {
     "name": "stdout",
     "output_type": "stream",
     "text": [
      "Working on repl = 6 ...\n"
     ]
    },
    {
     "name": "stderr",
     "output_type": "stream",
     "text": [
      "100%|███████████████████████████████████████████████████████████████████████████████████| 46/46 [03:20<00:00,  4.35s/it]\n"
     ]
    },
    {
     "name": "stdout",
     "output_type": "stream",
     "text": [
      "Working on repl = 7 ...\n"
     ]
    },
    {
     "name": "stderr",
     "output_type": "stream",
     "text": [
      "100%|███████████████████████████████████████████████████████████████████████████████████| 46/46 [03:10<00:00,  4.15s/it]\n"
     ]
    },
    {
     "name": "stdout",
     "output_type": "stream",
     "text": [
      "Working on repl = 8 ...\n"
     ]
    },
    {
     "name": "stderr",
     "output_type": "stream",
     "text": [
      "100%|███████████████████████████████████████████████████████████████████████████████████| 46/46 [03:11<00:00,  4.17s/it]\n"
     ]
    },
    {
     "name": "stdout",
     "output_type": "stream",
     "text": [
      "Working on repl = 9 ...\n"
     ]
    },
    {
     "name": "stderr",
     "output_type": "stream",
     "text": [
      "100%|███████████████████████████████████████████████████████████████████████████████████| 46/46 [03:12<00:00,  4.19s/it]\n"
     ]
    },
    {
     "name": "stdout",
     "output_type": "stream",
     "text": [
      "Working on repl = 10 ...\n"
     ]
    },
    {
     "name": "stderr",
     "output_type": "stream",
     "text": [
      "100%|███████████████████████████████████████████████████████████████████████████████████| 46/46 [03:09<00:00,  4.11s/it]\n"
     ]
    },
    {
     "name": "stdout",
     "output_type": "stream",
     "text": [
      "Working on repl = 11 ...\n"
     ]
    },
    {
     "name": "stderr",
     "output_type": "stream",
     "text": [
      "100%|███████████████████████████████████████████████████████████████████████████████████| 46/46 [03:11<00:00,  4.16s/it]\n"
     ]
    },
    {
     "name": "stdout",
     "output_type": "stream",
     "text": [
      "Working on repl = 12 ...\n"
     ]
    },
    {
     "name": "stderr",
     "output_type": "stream",
     "text": [
      "100%|███████████████████████████████████████████████████████████████████████████████████| 46/46 [03:10<00:00,  4.13s/it]\n"
     ]
    },
    {
     "name": "stdout",
     "output_type": "stream",
     "text": [
      "Working on repl = 13 ...\n"
     ]
    },
    {
     "name": "stderr",
     "output_type": "stream",
     "text": [
      "100%|███████████████████████████████████████████████████████████████████████████████████| 46/46 [03:09<00:00,  4.12s/it]\n"
     ]
    },
    {
     "name": "stdout",
     "output_type": "stream",
     "text": [
      "Working on repl = 14 ...\n"
     ]
    },
    {
     "name": "stderr",
     "output_type": "stream",
     "text": [
      "100%|███████████████████████████████████████████████████████████████████████████████████| 46/46 [03:09<00:00,  4.12s/it]\n"
     ]
    },
    {
     "name": "stdout",
     "output_type": "stream",
     "text": [
      "Working on repl = 15 ...\n"
     ]
    },
    {
     "name": "stderr",
     "output_type": "stream",
     "text": [
      "100%|███████████████████████████████████████████████████████████████████████████████████| 46/46 [03:10<00:00,  4.13s/it]\n"
     ]
    },
    {
     "name": "stdout",
     "output_type": "stream",
     "text": [
      "Working on repl = 16 ...\n"
     ]
    },
    {
     "name": "stderr",
     "output_type": "stream",
     "text": [
      "100%|███████████████████████████████████████████████████████████████████████████████████| 46/46 [03:13<00:00,  4.21s/it]\n"
     ]
    },
    {
     "name": "stdout",
     "output_type": "stream",
     "text": [
      "Working on repl = 17 ...\n"
     ]
    },
    {
     "name": "stderr",
     "output_type": "stream",
     "text": [
      "100%|███████████████████████████████████████████████████████████████████████████████████| 46/46 [03:12<00:00,  4.18s/it]\n"
     ]
    },
    {
     "name": "stdout",
     "output_type": "stream",
     "text": [
      "Working on repl = 18 ...\n"
     ]
    },
    {
     "name": "stderr",
     "output_type": "stream",
     "text": [
      "100%|███████████████████████████████████████████████████████████████████████████████████| 46/46 [03:17<00:00,  4.29s/it]\n"
     ]
    },
    {
     "name": "stdout",
     "output_type": "stream",
     "text": [
      "Working on repl = 19 ...\n"
     ]
    },
    {
     "name": "stderr",
     "output_type": "stream",
     "text": [
      "100%|███████████████████████████████████████████████████████████████████████████████████| 46/46 [03:12<00:00,  4.18s/it]\n"
     ]
    },
    {
     "name": "stdout",
     "output_type": "stream",
     "text": [
      "Working on repl = 20 ...\n"
     ]
    },
    {
     "name": "stderr",
     "output_type": "stream",
     "text": [
      "100%|███████████████████████████████████████████████████████████████████████████████████| 46/46 [03:10<00:00,  4.15s/it]\n"
     ]
    },
    {
     "name": "stdout",
     "output_type": "stream",
     "text": [
      "Working on repl = 21 ...\n"
     ]
    },
    {
     "name": "stderr",
     "output_type": "stream",
     "text": [
      "100%|███████████████████████████████████████████████████████████████████████████████████| 46/46 [03:11<00:00,  4.16s/it]\n"
     ]
    },
    {
     "name": "stdout",
     "output_type": "stream",
     "text": [
      "Working on repl = 22 ...\n"
     ]
    },
    {
     "name": "stderr",
     "output_type": "stream",
     "text": [
      "100%|███████████████████████████████████████████████████████████████████████████████████| 46/46 [03:11<00:00,  4.17s/it]\n"
     ]
    },
    {
     "name": "stdout",
     "output_type": "stream",
     "text": [
      "Working on repl = 23 ...\n"
     ]
    },
    {
     "name": "stderr",
     "output_type": "stream",
     "text": [
      "100%|███████████████████████████████████████████████████████████████████████████████████| 46/46 [03:13<00:00,  4.22s/it]\n"
     ]
    },
    {
     "name": "stdout",
     "output_type": "stream",
     "text": [
      "Working on repl = 24 ...\n"
     ]
    },
    {
     "name": "stderr",
     "output_type": "stream",
     "text": [
      "100%|███████████████████████████████████████████████████████████████████████████████████| 46/46 [03:20<00:00,  4.36s/it]\n"
     ]
    },
    {
     "name": "stdout",
     "output_type": "stream",
     "text": [
      "Working on repl = 25 ...\n"
     ]
    },
    {
     "name": "stderr",
     "output_type": "stream",
     "text": [
      "100%|███████████████████████████████████████████████████████████████████████████████████| 46/46 [03:16<00:00,  4.27s/it]\n"
     ]
    },
    {
     "name": "stdout",
     "output_type": "stream",
     "text": [
      "Working on repl = 26 ...\n"
     ]
    },
    {
     "name": "stderr",
     "output_type": "stream",
     "text": [
      "100%|███████████████████████████████████████████████████████████████████████████████████| 46/46 [03:05<00:00,  4.04s/it]\n"
     ]
    },
    {
     "name": "stdout",
     "output_type": "stream",
     "text": [
      "Working on repl = 27 ...\n"
     ]
    },
    {
     "name": "stderr",
     "output_type": "stream",
     "text": [
      "100%|███████████████████████████████████████████████████████████████████████████████████| 46/46 [03:05<00:00,  4.03s/it]\n"
     ]
    },
    {
     "name": "stdout",
     "output_type": "stream",
     "text": [
      "Working on repl = 28 ...\n"
     ]
    },
    {
     "name": "stderr",
     "output_type": "stream",
     "text": [
      "100%|███████████████████████████████████████████████████████████████████████████████████| 46/46 [03:04<00:00,  4.02s/it]\n"
     ]
    },
    {
     "name": "stdout",
     "output_type": "stream",
     "text": [
      "Working on repl = 29 ...\n"
     ]
    },
    {
     "name": "stderr",
     "output_type": "stream",
     "text": [
      "100%|███████████████████████████████████████████████████████████████████████████████████| 46/46 [03:03<00:00,  3.98s/it]\n"
     ]
    },
    {
     "name": "stdout",
     "output_type": "stream",
     "text": [
      "Working on repl = 30 ...\n"
     ]
    },
    {
     "name": "stderr",
     "output_type": "stream",
     "text": [
      "100%|███████████████████████████████████████████████████████████████████████████████████| 46/46 [06:13<00:00,  8.13s/it]\n"
     ]
    },
    {
     "name": "stdout",
     "output_type": "stream",
     "text": [
      "Working on repl = 31 ...\n"
     ]
    },
    {
     "name": "stderr",
     "output_type": "stream",
     "text": [
      "100%|███████████████████████████████████████████████████████████████████████████████████| 46/46 [03:03<00:00,  3.99s/it]\n"
     ]
    },
    {
     "name": "stdout",
     "output_type": "stream",
     "text": [
      "Working on repl = 32 ...\n"
     ]
    },
    {
     "name": "stderr",
     "output_type": "stream",
     "text": [
      "100%|███████████████████████████████████████████████████████████████████████████████████| 46/46 [03:03<00:00,  3.99s/it]\n"
     ]
    },
    {
     "name": "stdout",
     "output_type": "stream",
     "text": [
      "Working on repl = 33 ...\n"
     ]
    },
    {
     "name": "stderr",
     "output_type": "stream",
     "text": [
      "100%|███████████████████████████████████████████████████████████████████████████████████| 46/46 [03:05<00:00,  4.04s/it]\n"
     ]
    },
    {
     "name": "stdout",
     "output_type": "stream",
     "text": [
      "Working on repl = 34 ...\n"
     ]
    },
    {
     "name": "stderr",
     "output_type": "stream",
     "text": [
      "100%|███████████████████████████████████████████████████████████████████████████████████| 46/46 [03:16<00:00,  4.28s/it]\n"
     ]
    },
    {
     "name": "stdout",
     "output_type": "stream",
     "text": [
      "Working on repl = 35 ...\n"
     ]
    },
    {
     "name": "stderr",
     "output_type": "stream",
     "text": [
      "100%|███████████████████████████████████████████████████████████████████████████████████| 46/46 [03:16<00:00,  4.28s/it]\n"
     ]
    },
    {
     "name": "stdout",
     "output_type": "stream",
     "text": [
      "Working on repl = 36 ...\n"
     ]
    },
    {
     "name": "stderr",
     "output_type": "stream",
     "text": [
      "100%|███████████████████████████████████████████████████████████████████████████████████| 46/46 [03:03<00:00,  3.99s/it]\n"
     ]
    },
    {
     "name": "stdout",
     "output_type": "stream",
     "text": [
      "Working on repl = 37 ...\n"
     ]
    },
    {
     "name": "stderr",
     "output_type": "stream",
     "text": [
      "100%|███████████████████████████████████████████████████████████████████████████████████| 46/46 [03:16<00:00,  4.28s/it]\n"
     ]
    },
    {
     "name": "stdout",
     "output_type": "stream",
     "text": [
      "Working on repl = 38 ...\n"
     ]
    },
    {
     "name": "stderr",
     "output_type": "stream",
     "text": [
      "100%|███████████████████████████████████████████████████████████████████████████████████| 46/46 [03:03<00:00,  3.99s/it]\n"
     ]
    },
    {
     "name": "stdout",
     "output_type": "stream",
     "text": [
      "Working on repl = 39 ...\n"
     ]
    },
    {
     "name": "stderr",
     "output_type": "stream",
     "text": [
      "100%|███████████████████████████████████████████████████████████████████████████████████| 46/46 [03:51<00:00,  5.04s/it]\n"
     ]
    },
    {
     "name": "stdout",
     "output_type": "stream",
     "text": [
      "Working on repl = 40 ...\n"
     ]
    },
    {
     "name": "stderr",
     "output_type": "stream",
     "text": [
      "100%|███████████████████████████████████████████████████████████████████████████████████| 46/46 [04:18<00:00,  5.62s/it]\n"
     ]
    },
    {
     "name": "stdout",
     "output_type": "stream",
     "text": [
      "Working on repl = 41 ...\n"
     ]
    },
    {
     "name": "stderr",
     "output_type": "stream",
     "text": [
      "100%|███████████████████████████████████████████████████████████████████████████████████| 46/46 [04:23<00:00,  5.74s/it]\n"
     ]
    },
    {
     "name": "stdout",
     "output_type": "stream",
     "text": [
      "Working on repl = 42 ...\n"
     ]
    },
    {
     "name": "stderr",
     "output_type": "stream",
     "text": [
      "100%|███████████████████████████████████████████████████████████████████████████████████| 46/46 [04:05<00:00,  5.33s/it]\n"
     ]
    },
    {
     "name": "stdout",
     "output_type": "stream",
     "text": [
      "Working on repl = 43 ...\n"
     ]
    },
    {
     "name": "stderr",
     "output_type": "stream",
     "text": [
      "100%|███████████████████████████████████████████████████████████████████████████████████| 46/46 [04:07<00:00,  5.37s/it]\n"
     ]
    },
    {
     "name": "stdout",
     "output_type": "stream",
     "text": [
      "Working on repl = 44 ...\n"
     ]
    },
    {
     "name": "stderr",
     "output_type": "stream",
     "text": [
      "100%|███████████████████████████████████████████████████████████████████████████████████| 46/46 [04:13<00:00,  5.52s/it]\n"
     ]
    },
    {
     "name": "stdout",
     "output_type": "stream",
     "text": [
      "Working on repl = 45 ...\n"
     ]
    },
    {
     "name": "stderr",
     "output_type": "stream",
     "text": [
      "100%|███████████████████████████████████████████████████████████████████████████████████| 46/46 [04:02<00:00,  5.27s/it]\n"
     ]
    },
    {
     "name": "stdout",
     "output_type": "stream",
     "text": [
      "Working on repl = 46 ...\n"
     ]
    },
    {
     "name": "stderr",
     "output_type": "stream",
     "text": [
      "100%|███████████████████████████████████████████████████████████████████████████████████| 46/46 [03:57<00:00,  5.17s/it]\n"
     ]
    },
    {
     "name": "stdout",
     "output_type": "stream",
     "text": [
      "Working on repl = 47 ...\n"
     ]
    },
    {
     "name": "stderr",
     "output_type": "stream",
     "text": [
      "100%|███████████████████████████████████████████████████████████████████████████████████| 46/46 [04:16<00:00,  5.57s/it]\n"
     ]
    },
    {
     "name": "stdout",
     "output_type": "stream",
     "text": [
      "Working on repl = 48 ...\n"
     ]
    },
    {
     "name": "stderr",
     "output_type": "stream",
     "text": [
      "100%|███████████████████████████████████████████████████████████████████████████████████| 46/46 [04:13<00:00,  5.52s/it]\n"
     ]
    },
    {
     "name": "stdout",
     "output_type": "stream",
     "text": [
      "Working on repl = 49 ...\n"
     ]
    },
    {
     "name": "stderr",
     "output_type": "stream",
     "text": [
      "100%|███████████████████████████████████████████████████████████████████████████████████| 46/46 [04:21<00:00,  5.68s/it]\n"
     ]
    }
   ],
   "source": [
    "min_k = 5\n",
    "max_k = 50\n",
    "test_AUROCs = []\n",
    "best_ks = []\n",
    "for i in range(50):\n",
    "    print(\"Working on repl =\", i, \"...\")\n",
    "    repl = i\n",
    "    ## prepare positives (train, test) ##\n",
    "    path_o ='./' + pep + '/indices/index_permutation_repl' + str(repl) + '.txt'\n",
    "    full_intR = (np.loadtxt(path_o)).astype(np.int16)\n",
    "    data = [sonia_input_vdgdb[t] for t in full_intR]\n",
    "    train_data = data[:int(80*len(data)/100)]\n",
    "    test_data = data[int(80*len(data)/100):]\n",
    "    \n",
    "    ## prepare negatives (test) ##\n",
    "    path_o ='./' + pep + '/indices/index_permutationN_repl' + str(repl) + '.txt'\n",
    "    full_intR = (np.loadtxt(path_o)).astype(np.int16)\n",
    "    test_dataN0 = [t_seq[t] for t in full_intR]\n",
    "    test_dataN = val_dataN0[:len(val_data)]\n",
    "    train_dataN = val_dataN0[len(val_data)+1:len(val_data)+len(train_data)+1]\n",
    "    \n",
    "    # split in train/validation\n",
    "    L_val = int(0.2 * len(train_data))\n",
    "    rng = np.random.default_rng(1)\n",
    "    rng.shuffle(train_data)\n",
    "    rng.shuffle(train_dataN)    \n",
    "    temp_train = train_data[:-L_val]\n",
    "    temp_val = train_data[-L_val:]\n",
    "    temp_trainN = train_dataN[:-L_val]\n",
    "    temp_valN = train_dataN[-L_val:]\n",
    "    \n",
    "    # gridsearch for optimal k\n",
    "    val_AUCs = []\n",
    "    for k in tqdm(range(min_k, max_k+1)):\n",
    "        # compute AUROC\n",
    "        res_pos = []\n",
    "        for x in temp_val:\n",
    "            ts = x\n",
    "            ave_dists_plus = np.mean(sorted([tcr_dist(ts, x) for x in temp_train])[:k])\n",
    "            ave_dists_minus = np.mean(sorted([tcr_dist(ts, x) for x in temp_trainN])[:k])\n",
    "            res_pos.append(ave_dists_minus - ave_dists_plus)\n",
    "        res_pos = np.array(res_pos)\n",
    "        \n",
    "        res_neg = []\n",
    "        for x in temp_valN:\n",
    "            ts = x\n",
    "            ave_dists_plus = np.mean(sorted([tcr_dist(ts, x) for x in temp_train])[:k])\n",
    "            ave_dists_minus = np.mean(sorted([tcr_dist(ts, x) for x in temp_trainN])[:k])\n",
    "            res_neg.append(ave_dists_minus - ave_dists_plus)\n",
    "        res_neg = np.array(res_neg)\n",
    "        \n",
    "        scores_positive = res_pos\n",
    "        scores_negative = res_neg    \n",
    "        labels = np.hstack((np.zeros((len(res_neg))), np.ones((len(res_pos))))) \n",
    "        scores = np.hstack((scores_negative, scores_positive))\n",
    "        fpr, tpr, thresholds = metrics.roc_curve(labels, scores)\n",
    "        val_AUCs.append(metrics.auc(fpr, tpr))\n",
    "    k = np.argmax(val_AUCs) + min_k\n",
    "    best_ks.append(k)\n",
    "    \n",
    "    # compute AUROC of test set with the best k \n",
    "    res_pos = []\n",
    "    for x in test_data:\n",
    "        ts = x\n",
    "        ave_dists_plus = np.mean(sorted([tcr_dist(ts, x) for x in train_data])[:k])\n",
    "        ave_dists_minus = np.mean(sorted([tcr_dist(ts, x) for x in train_dataN])[:k])\n",
    "        res_pos.append(ave_dists_minus - ave_dists_plus)\n",
    "    res_pos = np.array(res_pos)\n",
    "    \n",
    "    res_neg = []\n",
    "    for x in test_dataN:\n",
    "        ts = x\n",
    "        ave_dists_plus = np.mean(sorted([tcr_dist(ts, x) for x in train_data])[:k])\n",
    "        ave_dists_minus = np.mean(sorted([tcr_dist(ts, x) for x in train_dataN])[:k])\n",
    "        res_neg.append(ave_dists_minus - ave_dists_plus)\n",
    "    res_neg = np.array(res_neg)\n",
    "    \n",
    "    scores_positive = res_pos\n",
    "    scores_negative = res_neg    \n",
    "    labels = np.hstack((np.zeros((len(res_neg))), np.ones((len(res_pos))))) \n",
    "    scores = np.hstack((scores_negative, scores_positive))\n",
    "    fpr, tpr, thresholds = metrics.roc_curve(labels, scores)\n",
    "    test_AUROCs.append(metrics.auc(fpr, tpr))"
   ]
  },
  {
   "cell_type": "code",
   "execution_count": 121,
   "id": "90bcf841",
   "metadata": {},
   "outputs": [],
   "source": [
    "np.savetxt('./' + pep + '/AUROCs_kNN_nestedCrossval.txt', test_AUROCs)"
   ]
  },
  {
   "cell_type": "code",
   "execution_count": 122,
   "id": "5428dccc",
   "metadata": {},
   "outputs": [
    {
     "data": {
      "text/plain": [
       "(0.700110071247434, 0.011535148058128464)"
      ]
     },
     "execution_count": 122,
     "metadata": {},
     "output_type": "execute_result"
    }
   ],
   "source": [
    "np.mean(test_AUROCs), np.std(test_AUROCs)"
   ]
  },
  {
   "cell_type": "code",
   "execution_count": 125,
   "id": "e939a25b",
   "metadata": {},
   "outputs": [
    {
     "data": {
      "text/plain": [
       "26.4"
      ]
     },
     "execution_count": 125,
     "metadata": {},
     "output_type": "execute_result"
    }
   ],
   "source": [
    "np.mean(best_ks)"
   ]
  },
  {
   "cell_type": "code",
   "execution_count": 123,
   "id": "21431b9b",
   "metadata": {
    "scrolled": true
   },
   "outputs": [
    {
     "data": {
      "text/plain": [
       "[19,\n",
       " 43,\n",
       " 35,\n",
       " 26,\n",
       " 49,\n",
       " 22,\n",
       " 17,\n",
       " 23,\n",
       " 30,\n",
       " 34,\n",
       " 26,\n",
       " 19,\n",
       " 26,\n",
       " 34,\n",
       " 33,\n",
       " 14,\n",
       " 34,\n",
       " 7,\n",
       " 23,\n",
       " 33,\n",
       " 10,\n",
       " 34,\n",
       " 23,\n",
       " 26,\n",
       " 21,\n",
       " 18,\n",
       " 19,\n",
       " 19,\n",
       " 29,\n",
       " 29,\n",
       " 26,\n",
       " 30,\n",
       " 12,\n",
       " 18,\n",
       " 33,\n",
       " 21,\n",
       " 19,\n",
       " 35,\n",
       " 31,\n",
       " 29,\n",
       " 32,\n",
       " 29,\n",
       " 35,\n",
       " 26,\n",
       " 49,\n",
       " 21,\n",
       " 15,\n",
       " 25,\n",
       " 34,\n",
       " 25]"
      ]
     },
     "execution_count": 123,
     "metadata": {},
     "output_type": "execute_result"
    }
   ],
   "source": [
    "best_ks"
   ]
  },
  {
   "cell_type": "code",
   "execution_count": 124,
   "id": "2ed92388",
   "metadata": {
    "scrolled": true
   },
   "outputs": [
    {
     "data": {
      "text/plain": [
       "[0.7028438594372659,\n",
       " 0.6939071368192247,\n",
       " 0.7076832508151188,\n",
       " 0.6905784325564546,\n",
       " 0.678665016302379,\n",
       " 0.7069405868856418,\n",
       " 0.6796848206738317,\n",
       " 0.6958881777563097,\n",
       " 0.7191589180050719,\n",
       " 0.7068699432435697,\n",
       " 0.7161459968602827,\n",
       " 0.6943774906412269,\n",
       " 0.7104015215553677,\n",
       " 0.7031312643400555,\n",
       " 0.7116875981161694,\n",
       " 0.6799595459485571,\n",
       " 0.7017135611641107,\n",
       " 0.6752541963530975,\n",
       " 0.7003188020770439,\n",
       " 0.7055144306243207,\n",
       " 0.6908302137423017,\n",
       " 0.7090816326530612,\n",
       " 0.694952300446806,\n",
       " 0.6953465765004226,\n",
       " 0.6960035019925128,\n",
       " 0.6919665499335829,\n",
       " 0.6995399106388117,\n",
       " 0.6968023185605603,\n",
       " 0.6966338606448497,\n",
       " 0.6964074387151309,\n",
       " 0.6863023789397417,\n",
       " 0.7196316869943242,\n",
       " 0.7048454292959786,\n",
       " 0.6904745803646902,\n",
       " 0.6935762589059293,\n",
       " 0.7128239343074507,\n",
       " 0.6938467576379665,\n",
       " 0.7060964859316508,\n",
       " 0.7026204564666102,\n",
       " 0.7096153846153845,\n",
       " 0.6967860161816206,\n",
       " 0.7064068349233182,\n",
       " 0.7233594976452119,\n",
       " 0.693523125226422,\n",
       " 0.7006188866078975,\n",
       " 0.7088757396449704,\n",
       " 0.6703326892887334,\n",
       " 0.7063881173771285,\n",
       " 0.7150863422291994,\n",
       " 0.7160041057843256]"
      ]
     },
     "execution_count": 124,
     "metadata": {},
     "output_type": "execute_result"
    }
   ],
   "source": [
    "test_AUROCs"
   ]
  },
  {
   "cell_type": "code",
   "execution_count": null,
   "id": "6c94b54f",
   "metadata": {},
   "outputs": [],
   "source": []
  }
 ],
 "metadata": {
  "kernelspec": {
   "display_name": "Python 3 (ipykernel)",
   "language": "python",
   "name": "python3"
  },
  "language_info": {
   "codemirror_mode": {
    "name": "ipython",
    "version": 3
   },
   "file_extension": ".py",
   "mimetype": "text/x-python",
   "name": "python",
   "nbconvert_exporter": "python",
   "pygments_lexer": "ipython3",
   "version": "3.9.10"
  }
 },
 "nbformat": 4,
 "nbformat_minor": 5
}
