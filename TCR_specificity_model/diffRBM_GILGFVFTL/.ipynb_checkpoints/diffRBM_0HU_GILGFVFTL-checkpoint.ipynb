{
 "cells": [
  {
   "cell_type": "markdown",
   "id": "2bd772de",
   "metadata": {},
   "source": [
    "Train on GILGFVFTL without hidden units (only fields)."
   ]
  },
  {
   "cell_type": "code",
   "execution_count": 1,
   "id": "80977b5c",
   "metadata": {},
   "outputs": [
    {
     "name": "stderr",
     "output_type": "stream",
     "text": [
      "/home/adagio/projects/diffRBM_for_peptide_discrimination/../../apps/diffRBM/source/numba_utilities.py:1124: NumbaPerformanceWarning: \u001b[1m\u001b[1mnp.dot() is faster on contiguous arrays, called on (array(float32, 2d, F), array(float32, 2d, A))\u001b[0m\u001b[0m\n",
      "  dmean_v_dw = np.dot(s1.T, V)\n",
      "/home/adagio/projects/diffRBM_for_peptide_discrimination/../../apps/diffRBM/source/numba_utilities.py:1125: NumbaPerformanceWarning: \u001b[1m\u001b[1mnp.dot() is faster on contiguous arrays, called on (array(float32, 2d, F), array(float32, 2d, A))\u001b[0m\u001b[0m\n",
      "  dvar_e_dw = np.dot(s2.T, V)\n",
      "/home/adagio/projects/diffRBM_for_peptide_discrimination/../../apps/diffRBM/source/numba_utilities.py:1126: NumbaPerformanceWarning: \u001b[1m\u001b[1mnp.dot() is faster on contiguous arrays, called on (array(float32, 2d, F), array(float32, 2d, A))\u001b[0m\u001b[0m\n",
      "  tmp3 = np.dot(s3.T, V)\n",
      "/home/adagio/projects/diffRBM_for_peptide_discrimination/../../apps/diffRBM/source/numba_utilities.py:961: NumbaPerformanceWarning: \u001b[1m\u001b[1mnp.dot() is faster on contiguous arrays, called on (array(float32, 1d, A), array(float32, 2d, A))\u001b[0m\u001b[0m\n",
      "  mean_V = np.dot(weights, V) / sum_weights\n",
      "findfont: Font family ['Arial'] not found. Falling back to DejaVu Sans.\n",
      "findfont: Font family ['Arial'] not found. Falling back to DejaVu Sans.\n"
     ]
    }
   ],
   "source": [
    "import matplotlib.pyplot as plt\n",
    "%matplotlib inline\n",
    "import sys\n",
    "sys.path.append('../../apps/diffRBM/source/')\n",
    "sys.path.append('../../apps/diffRBM/utilities/')\n",
    "from common_imports import set_num_threads\n",
    "set_num_threads(6) # Set the number of cores. Must be executed before importing numpy&numba.\n",
    "import numpy as np\n",
    "import rbm, diffrbm, utilities, sequence_logo, Proteins_utils, RBM_utils\n",
    "import pandas as pd\n",
    "from scipy import stats\n",
    "from sklearn import metrics\n",
    "\n",
    "import itertools"
   ]
  },
  {
   "cell_type": "code",
   "execution_count": 2,
   "id": "a4f3d1c1",
   "metadata": {},
   "outputs": [],
   "source": [
    "def shorten_gene_name(gene):\n",
    "    \"\"\"Removes 0 in gene name when not needed.\"\"\"\n",
    "    pre = gene[:4]\n",
    "    first_num = str(int(gene[4:6]))\n",
    "    if len(gene[6:]) == 0:\n",
    "        short_gene = pre + first_num\n",
    "    else:\n",
    "        dash = gene[6:7]\n",
    "        second_num = str(int(gene[7:]))\n",
    "        short_gene = pre + first_num + dash + second_num\n",
    "    return short_gene"
   ]
  },
  {
   "cell_type": "code",
   "execution_count": 3,
   "id": "c08cc3ad",
   "metadata": {},
   "outputs": [],
   "source": [
    "def add_VJ_info_2num(seqs_2num, V_list, J_list, V_dict, J_dict):\n",
    "    Vlist_2num = np.array([V_dict[v] for v in V_list]).reshape((seqs_2num.shape[0], 1))\n",
    "    Jlist_2num = np.array([J_dict[j] for j in J_list]).reshape((seqs_2num.shape[0], 1))\n",
    "    seqs_2num_VJ = np.append(seqs_2num, Vlist_2num, axis=1)\n",
    "    seqs_2num_VJ = np.append(seqs_2num_VJ, Jlist_2num, axis=1)\n",
    "    return seqs_2num_VJ"
   ]
  },
  {
   "cell_type": "code",
   "execution_count": 4,
   "id": "1de0f445",
   "metadata": {},
   "outputs": [],
   "source": [
    "def produce_callback_NOweights(RBMdiff):\n",
    "    def callback():\n",
    "        RBMdiff.RBMpost.weights[RBMdiff.n_h_:] = 0\n",
    "    return callback"
   ]
  },
  {
   "cell_type": "code",
   "execution_count": 5,
   "id": "b3d2e45c",
   "metadata": {},
   "outputs": [],
   "source": [
    "# load GILGFVFTL data, load JV2num_dict_train_train.csv, do num2seq plus add V and J\n",
    "\n",
    "vdgdb_df = pd.read_csv('VDJdb_GILGFVFTL_WithAligned20.csv')\n",
    "vdgdb_df = vdgdb_df.drop_duplicates().reset_index(drop=True)\n",
    "\n",
    "# load JV2num dicts - see comment below\n",
    "t_df = pd.read_csv('J2num_dict_train_train.csv')\n",
    "J2num_dict = dict(zip(t_df['J_gene'], t_df['RBM_VU_id']))\n",
    "t_df = pd.read_csv('V2num_dict_train_train.csv')\n",
    "V2num_dict = dict(zip(t_df['V_gene'], t_df['RBM_VU_id']))\n",
    "\n",
    "# do num2seq\n",
    "t_allseq = vdgdb_df[\"ali_seq\"].to_list()\n",
    "allseq_2num = np.array(Proteins_utils.seq2num(t_allseq), dtype=np.int16)\n",
    "# add to gen_seqs2num two integers for each row, obtained from V and J\n",
    "Vlist = vdgdb_df[\"TRBV_gene\"].to_list()\n",
    "Jlist = vdgdb_df[\"TRBJ_gene\"].to_list()\n",
    "\n",
    "allseq_2num_withVJ = add_VJ_info_2num(allseq_2num, Vlist, Jlist, V2num_dict, J2num_dict)"
   ]
  },
  {
   "cell_type": "code",
   "execution_count": 6,
   "id": "2d5febe6",
   "metadata": {},
   "outputs": [],
   "source": [
    "# load Emerson test set and prepare it for usage in ROC computations\n",
    "emerson_test_set = pd.read_csv('train_test_WithoutDuplicates_aligned_20.csv.gz')\n",
    "emerson_test_seqs2num =  np.array(Proteins_utils.seq2num(emerson_test_set['ali_seq'].to_list()), dtype=np.int16)\n",
    "Vlist = emerson_test_set[\"v_gene\"].to_list()\n",
    "Jlist = emerson_test_set[\"j_gene\"].to_list()\n",
    "emerson_test_2num_withVJ = add_VJ_info_2num(emerson_test_seqs2num, Vlist, Jlist, V2num_dict, J2num_dict)"
   ]
  },
  {
   "cell_type": "code",
   "execution_count": 7,
   "id": "78af54ad",
   "metadata": {},
   "outputs": [],
   "source": [
    "# load backRBM\n",
    "mybackRBM = RBM_utils.loadRBM('./backRBM-50hu-withVJ-train_train_WithoutDuplicates.data')"
   ]
  },
  {
   "cell_type": "code",
   "execution_count": null,
   "id": "a8086711",
   "metadata": {},
   "outputs": [],
   "source": []
  },
  {
   "cell_type": "markdown",
   "id": "d3185f6f",
   "metadata": {},
   "source": [
    "# training"
   ]
  },
  {
   "cell_type": "code",
   "execution_count": 8,
   "id": "4bd6a11b",
   "metadata": {
    "scrolled": true
   },
   "outputs": [
    {
     "name": "stdout",
     "output_type": "stream",
     "text": [
      "Batch size tested: 50\n",
      "Number of epochs tested: 100\n",
      "(using reg_diff=True)\n",
      "Mismatch dimensions (50, 51), [10, 51], reinitializating I\n",
      "Mismatch dimensions (50, 22, 48), [10, 22, 48], reinitializating I\n",
      "Mismatch dimensions (50, 51), [10, 51], reinitializating I\n",
      "Mismatch dimensions (50, 22, 48), [10, 22, 48], reinitializating I\n",
      "Mismatch dimensions (50, 51), [10, 51], reinitializating I\n",
      "Mismatch dimensions (50, 22, 48), [10, 22, 48], reinitializating I\n",
      "Mismatch dimensions (50, 51), [10, 51], reinitializating I\n",
      "Mismatch dimensions (50, 22, 48), [10, 22, 48], reinitializating I\n",
      "Mismatch dimensions (50, 51), [10, 51], reinitializating I\n",
      "Mismatch dimensions (50, 22, 48), [10, 22, 48], reinitializating I\n",
      "Mismatch dimensions (50, 51), [10, 51], reinitializating I\n",
      "Mismatch dimensions (50, 22, 48), [10, 22, 48], reinitializating I\n",
      "Mismatch dimensions (50, 51), [10, 51], reinitializating I\n",
      "Mismatch dimensions (50, 22, 48), [10, 22, 48], reinitializating I\n",
      "Mismatch dimensions (50, 51), [10, 51], reinitializating I\n",
      "Mismatch dimensions (50, 22, 48), [10, 22, 48], reinitializating I\n",
      "Mismatch dimensions (50, 51), [10, 51], reinitializating I\n",
      "Mismatch dimensions (50, 22, 48), [10, 22, 48], reinitializating I\n",
      "Mismatch dimensions (50, 51), [10, 51], reinitializating I\n",
      "Mismatch dimensions (50, 22, 48), [10, 22, 48], reinitializating I\n",
      "Average loglik (post) for training set: -21.707878\n",
      "Average loglik (post) for validation set: -21.847569\n",
      "Average ROC post: 0.7550897453110441  with standard devation: 0.012090355132100251\n",
      "Average ROC top: 0.9426147106222403  with standard devation: 0.008542953344828274\n",
      "#########################################\n"
     ]
    }
   ],
   "source": [
    "batch_size_totest = [50]\n",
    "n_iter_totest = [100]\n",
    "Mt = len(vdgdb_df) - len(vdgdb_df) // 10 # size of training dataset of top\n",
    "Mb = 17999992 # size of training dataset of back\n",
    "\n",
    "N_times = 10\n",
    "\n",
    "test_size = len(vdgdb_df) // 10 # in this way there are 454 for NLVPMVATV in the test set\n",
    "c = 0\n",
    "for batch_size, n_iter in itertools.product(batch_size_totest, n_iter_totest):\n",
    "    print(\"Batch size tested:\", batch_size)\n",
    "    print(\"Number of epochs tested:\", n_iter)\n",
    "    print(\"(using reg_diff=True)\")\n",
    "    \n",
    "    t_aveloglik_train = []\n",
    "    t_aveloglik_test = []\n",
    "    t_testset_ROC_top = []\n",
    "    t_testset_ROC_post = []\n",
    "    for _ in range(N_times):\n",
    "        # prepare dataset\n",
    "        np.random.shuffle(allseq_2num_withVJ)\n",
    "        train_data = allseq_2num_withVJ[:-test_size]\n",
    "        test_data = allseq_2num_withVJ[-test_size:]\n",
    "        \n",
    "        # train model\n",
    "        n_h = 1\n",
    "        l1b = 0.01\n",
    "        l2f = 1/Mt\n",
    "        learning_rate = None # default behaviour\n",
    "        decay_after = 0.5\n",
    "        N_MC = 10\n",
    "        postRBM = rbm.RBM(n_h = mybackRBM.n_h + n_h, n_v = mybackRBM.n_v,\n",
    "                  n_cv= mybackRBM.n_cv, visible='Potts', hidden='dReLU')\n",
    "        diffRBM = diffrbm.DiffRBM(mybackRBM, postRBM)\n",
    "        diffRBM.update_post_from_back(vlayer=True, hlayer=True)\n",
    "        diffRBM.fit_top(train_data, batch_size = batch_size, n_iter = n_iter, l1b = l1b, l2_fields = l2f,\n",
    "                 N_MC = N_MC, decay_after = decay_after, verbose = 0, vverbose = 0, batch_norm=True, reg_diff = True, \n",
    "                 callback = produce_callback_NOweights(diffRBM))\n",
    "\n",
    "        # compute loglikelihood (post)\n",
    "        t_aveloglik_train.append(np.mean(diffRBM.RBMpost.likelihood(np.array(train_data, dtype=np.int16))))\n",
    "        t_aveloglik_test.append(np.mean(diffRBM.RBMpost.likelihood(np.array(test_data, dtype=np.int16))))\n",
    "        \n",
    "        # compute performances (post and top)\n",
    "        t_rbm = diffRBM.RBMpost\n",
    "        liks_positive = -t_rbm.free_energy(np.array(test_data, dtype=np.int16))\n",
    "        liks_negative = -t_rbm.free_energy(np.array(emerson_test_2num_withVJ, dtype=np.int16))\n",
    "        labels = np.hstack((np.zeros((len(liks_negative))), np.ones((len(liks_positive))))) \n",
    "        scores = np.hstack((liks_negative, liks_positive))\n",
    "        fpr, tpr, thresholds = metrics.roc_curve(labels, scores)\n",
    "        t_testset_ROC_post.append(metrics.auc(fpr, tpr))\n",
    "        \n",
    "        t_rbm = diffRBM.top_rbm()\n",
    "        liks_positive = -t_rbm.free_energy(np.array(test_data, dtype=np.int16))\n",
    "        liks_negative = -t_rbm.free_energy(np.array(emerson_test_2num_withVJ, dtype=np.int16))\n",
    "        labels = np.hstack((np.zeros((len(liks_negative))), np.ones((len(liks_positive))))) \n",
    "        scores = np.hstack((liks_negative, liks_positive))\n",
    "        fpr, tpr, thresholds = metrics.roc_curve(labels, scores)\n",
    "        t_testset_ROC_top.append(metrics.auc(fpr, tpr))\n",
    "        \n",
    "    # compute average and std dev\n",
    "    ave_aveloglik_train = np.mean(t_aveloglik_train)\n",
    "    ave_aveloglik_test = np.mean(t_aveloglik_test)\n",
    "    ave_testset_ROC_top = np.mean(t_testset_ROC_top)\n",
    "    std_testset_ROC_top = np.std(t_testset_ROC_top)\n",
    "    ave_testset_ROC_post = np.mean(t_testset_ROC_post)\n",
    "    std_testset_ROC_post = np.std(t_testset_ROC_post)\n",
    "    \n",
    "    print(\"Average loglik (post) for training set:\", ave_aveloglik_train)\n",
    "    print(\"Average loglik (post) for validation set:\", ave_aveloglik_test)\n",
    "    print(\"Average ROC post:\", ave_testset_ROC_post, \" with standard devation:\", std_testset_ROC_post)\n",
    "    print(\"Average ROC top:\", ave_testset_ROC_top, \" with standard devation:\", std_testset_ROC_top)\n",
    "    print(\"#########################################\")"
   ]
  },
  {
   "cell_type": "code",
   "execution_count": 21,
   "id": "82192bb0",
   "metadata": {},
   "outputs": [
    {
     "name": "stdout",
     "output_type": "stream",
     "text": [
      "Batch size tested: 50\n",
      "Number of epochs tested: 100\n",
      "(using reg_diff=False)\n",
      "Mismatch dimensions (50, 51), [10, 51], reinitializating I\n",
      "Mismatch dimensions (50, 22, 48), [10, 22, 48], reinitializating I\n",
      "Mismatch dimensions (50, 51), [10, 51], reinitializating I\n",
      "Mismatch dimensions (50, 22, 48), [10, 22, 48], reinitializating I\n",
      "Mismatch dimensions (50, 51), [10, 51], reinitializating I\n",
      "Mismatch dimensions (50, 22, 48), [10, 22, 48], reinitializating I\n",
      "Mismatch dimensions (50, 51), [10, 51], reinitializating I\n",
      "Mismatch dimensions (50, 22, 48), [10, 22, 48], reinitializating I\n",
      "Mismatch dimensions (50, 51), [10, 51], reinitializating I\n",
      "Mismatch dimensions (50, 22, 48), [10, 22, 48], reinitializating I\n",
      "Mismatch dimensions (50, 51), [10, 51], reinitializating I\n",
      "Mismatch dimensions (50, 22, 48), [10, 22, 48], reinitializating I\n",
      "Mismatch dimensions (50, 51), [10, 51], reinitializating I\n",
      "Mismatch dimensions (50, 22, 48), [10, 22, 48], reinitializating I\n",
      "Mismatch dimensions (50, 51), [10, 51], reinitializating I\n",
      "Mismatch dimensions (50, 22, 48), [10, 22, 48], reinitializating I\n",
      "Mismatch dimensions (50, 51), [10, 51], reinitializating I\n",
      "Mismatch dimensions (50, 22, 48), [10, 22, 48], reinitializating I\n",
      "Mismatch dimensions (50, 51), [10, 51], reinitializating I\n",
      "Mismatch dimensions (50, 22, 48), [10, 22, 48], reinitializating I\n",
      "Average loglik (post) for training set: -21.874287\n",
      "Average loglik (post) for validation set: -22.026697\n",
      "Average ROC post: 0.7580930444059131  with standard devation: 0.007714509864579181\n",
      "Average ROC top: 0.9402449276261476  with standard devation: 0.009129835393279485\n",
      "#########################################\n"
     ]
    }
   ],
   "source": [
    "batch_size_totest = [50]\n",
    "n_iter_totest = [100]\n",
    "Mt = len(vdgdb_df) - len(vdgdb_df) // 10 # size of training dataset of top\n",
    "Mb = 17999992 # size of training dataset of back\n",
    "\n",
    "N_times = 10\n",
    "\n",
    "test_size = len(vdgdb_df) // 10 # in this way there are 454 for NLVPMVATV in the test set\n",
    "c = 0\n",
    "for batch_size, n_iter in itertools.product(batch_size_totest, n_iter_totest):\n",
    "    print(\"Batch size tested:\", batch_size)\n",
    "    print(\"Number of epochs tested:\", n_iter)\n",
    "    print(\"(using reg_diff=False)\")\n",
    "    \n",
    "    t_aveloglik_train = []\n",
    "    t_aveloglik_test = []\n",
    "    t_testset_ROC_top = []\n",
    "    t_testset_ROC_post = []\n",
    "    for _ in range(N_times):\n",
    "        # prepare dataset\n",
    "        np.random.shuffle(allseq_2num_withVJ)\n",
    "        train_data = allseq_2num_withVJ[:-test_size]\n",
    "        test_data = allseq_2num_withVJ[-test_size:]\n",
    "        \n",
    "        # train model\n",
    "        n_h = 1\n",
    "        l1b = 0.01\n",
    "        l2f = 1/Mt\n",
    "        learning_rate = None # default behaviour\n",
    "        decay_after = 0.5\n",
    "        N_MC = 10\n",
    "        postRBM = rbm.RBM(n_h = mybackRBM.n_h + n_h, n_v = mybackRBM.n_v,\n",
    "                  n_cv= mybackRBM.n_cv, visible='Potts', hidden='dReLU')\n",
    "        diffRBM = diffrbm.DiffRBM(mybackRBM, postRBM)\n",
    "        diffRBM.update_post_from_back(vlayer=True, hlayer=True)\n",
    "        diffRBM.fit_top(train_data, batch_size = batch_size, n_iter = n_iter, l1b = l1b, l2_fields = l2f,\n",
    "                 N_MC = N_MC, decay_after = decay_after, verbose = 0, vverbose = 0, batch_norm=True, reg_diff = False, \n",
    "                 callback = produce_callback_NOweights(diffRBM))\n",
    "\n",
    "        # compute loglikelihood (post)\n",
    "        t_aveloglik_train.append(np.mean(diffRBM.RBMpost.likelihood(np.array(train_data, dtype=np.int16))))\n",
    "        t_aveloglik_test.append(np.mean(diffRBM.RBMpost.likelihood(np.array(test_data, dtype=np.int16))))\n",
    "        \n",
    "        # compute performances (post and top)\n",
    "        t_rbm = diffRBM.RBMpost\n",
    "        liks_positive = -t_rbm.free_energy(np.array(test_data, dtype=np.int16))\n",
    "        liks_negative = -t_rbm.free_energy(np.array(emerson_test_2num_withVJ, dtype=np.int16))\n",
    "        labels = np.hstack((np.zeros((len(liks_negative))), np.ones((len(liks_positive))))) \n",
    "        scores = np.hstack((liks_negative, liks_positive))\n",
    "        fpr, tpr, thresholds = metrics.roc_curve(labels, scores)\n",
    "        t_testset_ROC_post.append(metrics.auc(fpr, tpr))\n",
    "        \n",
    "        t_rbm = diffRBM.top_rbm()\n",
    "        liks_positive = -t_rbm.free_energy(np.array(test_data, dtype=np.int16))\n",
    "        liks_negative = -t_rbm.free_energy(np.array(emerson_test_2num_withVJ, dtype=np.int16))\n",
    "        labels = np.hstack((np.zeros((len(liks_negative))), np.ones((len(liks_positive))))) \n",
    "        scores = np.hstack((liks_negative, liks_positive))\n",
    "        fpr, tpr, thresholds = metrics.roc_curve(labels, scores)\n",
    "        t_testset_ROC_top.append(metrics.auc(fpr, tpr))\n",
    "        \n",
    "    # compute average and std dev\n",
    "    ave_aveloglik_train = np.mean(t_aveloglik_train)\n",
    "    ave_aveloglik_test = np.mean(t_aveloglik_test)\n",
    "    ave_testset_ROC_top = np.mean(t_testset_ROC_top)\n",
    "    std_testset_ROC_top = np.std(t_testset_ROC_top)\n",
    "    ave_testset_ROC_post = np.mean(t_testset_ROC_post)\n",
    "    std_testset_ROC_post = np.std(t_testset_ROC_post)\n",
    "    \n",
    "    print(\"Average loglik (post) for training set:\", ave_aveloglik_train)\n",
    "    print(\"Average loglik (post) for validation set:\", ave_aveloglik_test)\n",
    "    print(\"Average ROC post:\", ave_testset_ROC_post, \" with standard devation:\", std_testset_ROC_post)\n",
    "    print(\"Average ROC top:\", ave_testset_ROC_top, \" with standard devation:\", std_testset_ROC_top)\n",
    "    print(\"#########################################\")"
   ]
  },
  {
   "cell_type": "code",
   "execution_count": null,
   "id": "fdd80b4a",
   "metadata": {},
   "outputs": [],
   "source": []
  },
  {
   "cell_type": "code",
   "execution_count": null,
   "id": "c76a867f",
   "metadata": {},
   "outputs": [],
   "source": []
  },
  {
   "cell_type": "code",
   "execution_count": null,
   "id": "114fcac4",
   "metadata": {},
   "outputs": [],
   "source": []
  },
  {
   "cell_type": "code",
   "execution_count": null,
   "id": "d7fd4687",
   "metadata": {},
   "outputs": [],
   "source": [
    "# look better at one example best candidate"
   ]
  },
  {
   "cell_type": "code",
   "execution_count": 11,
   "id": "9b34306e",
   "metadata": {},
   "outputs": [],
   "source": [
    "# load peptide to be exluded in the training set\n",
    "seq_to_be_excluded = np.loadtxt(\"exclude_GILGFVFTL.txt\", dtype=str)"
   ]
  },
  {
   "cell_type": "code",
   "execution_count": 12,
   "id": "bea687d1",
   "metadata": {},
   "outputs": [],
   "source": [
    "# prepare train_2num_withVJ\n",
    "train_data = vdgdb_df[~vdgdb_df[\"CDR3_beta\"].isin(seq_to_be_excluded)]\n",
    "\n",
    "# do num2seq\n",
    "t_trainseq = train_data[\"ali_seq\"].to_list()\n",
    "trainseq_2num = np.array(Proteins_utils.seq2num(t_trainseq), dtype=np.int16)\n",
    "# add to gen_seqs2num two integers for each row, obtained from V and J\n",
    "Vlist = train_data[\"TRBV_gene\"].to_list()\n",
    "Jlist = train_data[\"TRBJ_gene\"].to_list()\n",
    "\n",
    "train_2num_withVJ = add_VJ_info_2num(trainseq_2num, Vlist, Jlist, V2num_dict, J2num_dict)"
   ]
  },
  {
   "cell_type": "code",
   "execution_count": 13,
   "id": "7befb5f0",
   "metadata": {},
   "outputs": [
    {
     "data": {
      "text/plain": [
       "((3457, 22), (3464, 22))"
      ]
     },
     "execution_count": 13,
     "metadata": {},
     "output_type": "execute_result"
    }
   ],
   "source": [
    "train_2num_withVJ.shape, allseq_2num_withVJ.shape"
   ]
  },
  {
   "cell_type": "code",
   "execution_count": 14,
   "id": "b494ac8d",
   "metadata": {},
   "outputs": [
    {
     "name": "stdout",
     "output_type": "stream",
     "text": [
      "Mismatch dimensions (50, 51), [10, 51], reinitializating I\n",
      "Mismatch dimensions (50, 22, 48), [10, 22, 48], reinitializating I\n"
     ]
    }
   ],
   "source": [
    "# training\n",
    "Mt = train_2num_withVJ.shape[0] # size of training dataset of top\n",
    "Mb = 17999992 # size of training dataset of back\n",
    "np.random.shuffle(train_2num_withVJ)\n",
    "train_data = train_2num_withVJ.copy()\n",
    "\n",
    "# train model\n",
    "n_h = 1\n",
    "l1b = 0.01\n",
    "l2f = 1/Mt\n",
    "learning_rate = None # default behaviour\n",
    "decay_after = 0.5\n",
    "N_MC = 10\n",
    "batch_size = 50\n",
    "n_iter = 100\n",
    "\n",
    "postRBM = rbm.RBM(n_h = mybackRBM.n_h + n_h, n_v = mybackRBM.n_v,\n",
    "          n_cv= mybackRBM.n_cv, visible='Potts', hidden='dReLU')\n",
    "diffRBM = diffrbm.DiffRBM(mybackRBM, postRBM)\n",
    "diffRBM.update_post_from_back(vlayer=True, hlayer=True)\n",
    "diffRBM.fit_top(train_data, batch_size = batch_size, n_iter = n_iter, l1b = l1b, l2_fields = l2f,\n",
    "         N_MC = N_MC, decay_after = decay_after, verbose = 0, vverbose = 0, batch_norm=True, reg_diff = True,\n",
    "         callback = produce_callback_NOweights(diffRBM))\n",
    "\n",
    "# compute loglikelihood (post)\n",
    "t_aveloglik_train = np.mean(diffRBM.RBMpost.likelihood(np.array(train_data, dtype=np.int16)))\n",
    "\n",
    "# compute performances (post and top)\n",
    "t_rbm = diffRBM.RBMpost\n",
    "liks_positive = -t_rbm.free_energy(np.array(train_data, dtype=np.int16))\n",
    "liks_negative = -t_rbm.free_energy(np.array(emerson_test_2num_withVJ, dtype=np.int16))\n",
    "labels = np.hstack((np.zeros((len(liks_negative))), np.ones((len(liks_positive))))) \n",
    "scores = np.hstack((liks_negative, liks_positive))\n",
    "fpr, tpr, thresholds = metrics.roc_curve(labels, scores)\n",
    "t_trainset_ROC_post = metrics.auc(fpr, tpr)\n",
    "\n",
    "t_rbm = diffRBM.top_rbm()\n",
    "liks_positive = -t_rbm.free_energy(np.array(train_data, dtype=np.int16))\n",
    "liks_negative = -t_rbm.free_energy(np.array(emerson_test_2num_withVJ, dtype=np.int16))\n",
    "labels = np.hstack((np.zeros((len(liks_negative))), np.ones((len(liks_positive))))) \n",
    "scores = np.hstack((liks_negative, liks_positive))\n",
    "fpr, tpr, thresholds = metrics.roc_curve(labels, scores)\n",
    "t_trainset_ROC_top = metrics.auc(fpr, tpr)"
   ]
  },
  {
   "cell_type": "code",
   "execution_count": 16,
   "id": "8d3441d9",
   "metadata": {},
   "outputs": [
    {
     "name": "stdout",
     "output_type": "stream",
     "text": [
      "-21.758575\n",
      "0.760618553606942\n",
      "0.9497670387984202\n"
     ]
    }
   ],
   "source": [
    "print(t_aveloglik_train)\n",
    "\n",
    "print(t_trainset_ROC_post)\n",
    "print(t_trainset_ROC_top)"
   ]
  },
  {
   "cell_type": "code",
   "execution_count": 17,
   "id": "407868e1",
   "metadata": {},
   "outputs": [
    {
     "name": "stdout",
     "output_type": "stream",
     "text": [
      "AUROC (BACK): 0.2898732582592521\n"
     ]
    },
    {
     "data": {
      "text/plain": [
       "<matplotlib.legend.Legend at 0x7f5ea2d724f0>"
      ]
     },
     "execution_count": 17,
     "metadata": {},
     "output_type": "execute_result"
    },
    {
     "data": {
      "image/png": "[encoded data removed]",
      "text/plain": [
       "<Figure size 432x288 with 1 Axes>"
      ]
     },
     "metadata": {
      "needs_background": "light"
     },
     "output_type": "display_data"
    }
   ],
   "source": [
    "# check performance - BACK\n",
    "t_rbm = diffRBM.RBMback\n",
    "liks_positive = -t_rbm.free_energy(np.array(train_data, dtype=np.int16))\n",
    "liks_negative = -t_rbm.free_energy(np.array(emerson_test_2num_withVJ, dtype=np.int16))\n",
    "labels = np.hstack((np.zeros((len(liks_negative))), np.ones((len(liks_positive))))) \n",
    "scores = np.hstack((liks_negative, liks_positive))\n",
    "fpr, tpr, thresholds = metrics.roc_curve(labels, scores)\n",
    "print(\"AUROC (BACK):\", metrics.auc(fpr, tpr))\n",
    "\n",
    "plt.hist(liks_positive, density=True, histtype='step', fill=False, label=\"GILGFVFTL\")\n",
    "plt.hist(liks_negative, density=True, histtype='step',  fill=False, label=\"Emerson\")\n",
    "plt.legend()"
   ]
  },
  {
   "cell_type": "code",
   "execution_count": 18,
   "id": "83a9f410",
   "metadata": {},
   "outputs": [
    {
     "name": "stdout",
     "output_type": "stream",
     "text": [
      "AUROC (DIFF): 0.760618553606942\n"
     ]
    },
    {
     "data": {
      "text/plain": [
       "<matplotlib.legend.Legend at 0x7f5ea2e28dc0>"
      ]
     },
     "execution_count": 18,
     "metadata": {},
     "output_type": "execute_result"
    },
    {
     "data": {
      "image/png": "[encoded data removed]",
      "text/plain": [
       "<Figure size 432x288 with 1 Axes>"
      ]
     },
     "metadata": {
      "needs_background": "light"
     },
     "output_type": "display_data"
    }
   ],
   "source": [
    "# check performance - DIFF\n",
    "t_rbm = diffRBM.RBMpost\n",
    "liks_positive = -t_rbm.free_energy(np.array(train_data, dtype=np.int16))\n",
    "liks_negative = -t_rbm.free_energy(np.array(emerson_test_2num_withVJ, dtype=np.int16))\n",
    "labels = np.hstack((np.zeros((len(liks_negative))), np.ones((len(liks_positive))))) \n",
    "scores = np.hstack((liks_negative, liks_positive))\n",
    "fpr, tpr, thresholds = metrics.roc_curve(labels, scores)\n",
    "print(\"AUROC (DIFF):\", metrics.auc(fpr, tpr))\n",
    "\n",
    "plt.hist(liks_positive, density=True, histtype='step', fill=False, label=\"GILGFVFTL\")\n",
    "plt.hist(liks_negative, density=True, histtype='step',  fill=False, label=\"Emerson\")\n",
    "plt.legend()"
   ]
  },
  {
   "cell_type": "code",
   "execution_count": 19,
   "id": "93602fa1",
   "metadata": {},
   "outputs": [
    {
     "name": "stdout",
     "output_type": "stream",
     "text": [
      "AUROC (TOP): 0.9497670387984202\n"
     ]
    },
    {
     "data": {
      "text/plain": [
       "<matplotlib.legend.Legend at 0x7f5ea2c7cd90>"
      ]
     },
     "execution_count": 19,
     "metadata": {},
     "output_type": "execute_result"
    },
    {
     "data": {
      "image/png": "[encoded data removed]",
      "text/plain": [
       "<Figure size 432x288 with 1 Axes>"
      ]
     },
     "metadata": {
      "needs_background": "light"
     },
     "output_type": "display_data"
    }
   ],
   "source": [
    "# check performance - TOP\n",
    "t_rbm = diffRBM.top_rbm()\n",
    "liks_positive = -t_rbm.free_energy(np.array(train_data, dtype=np.int16))\n",
    "liks_negative = -t_rbm.free_energy(np.array(emerson_test_2num_withVJ, dtype=np.int16))\n",
    "labels = np.hstack((np.zeros((len(liks_negative))), np.ones((len(liks_positive))))) \n",
    "scores = np.hstack((liks_negative, liks_positive))\n",
    "fpr, tpr, thresholds = metrics.roc_curve(labels, scores)\n",
    "print(\"AUROC (TOP):\", metrics.auc(fpr, tpr))\n",
    "\n",
    "plt.hist(liks_positive, density=True, histtype='step', fill=False, label=\"GILGFVFTL\")\n",
    "plt.hist(liks_negative, density=True, histtype='step',  fill=False, label=\"Emerson\")\n",
    "plt.legend()"
   ]
  },
  {
   "cell_type": "code",
   "execution_count": 20,
   "id": "a645714d",
   "metadata": {},
   "outputs": [],
   "source": [
    "# save RBM\n",
    "file_name = 'diffRBMlin_GILGFVFTL_-50+0hu-withVJ_hyperoptimized.data'\n",
    "RBM_utils.saveRBM(file_name, diffRBM)"
   ]
  },
  {
   "cell_type": "code",
   "execution_count": null,
   "id": "27304f21",
   "metadata": {},
   "outputs": [],
   "source": []
  },
  {
   "cell_type": "code",
   "execution_count": null,
   "id": "6d1d6e1a",
   "metadata": {},
   "outputs": [],
   "source": [
    "# now one with reg_diff=False"
   ]
  },
  {
   "cell_type": "code",
   "execution_count": 22,
   "id": "26e553da",
   "metadata": {},
   "outputs": [
    {
     "name": "stdout",
     "output_type": "stream",
     "text": [
      "Mismatch dimensions (50, 51), [10, 51], reinitializating I\n",
      "Mismatch dimensions (50, 22, 48), [10, 22, 48], reinitializating I\n"
     ]
    }
   ],
   "source": [
    "# training\n",
    "Mt = train_2num_withVJ.shape[0] # size of training dataset of top\n",
    "Mb = 17999992 # size of training dataset of back\n",
    "np.random.shuffle(train_2num_withVJ)\n",
    "train_data = train_2num_withVJ.copy()\n",
    "\n",
    "# train model\n",
    "n_h = 1\n",
    "l1b = 0.01\n",
    "l2f = 1/Mt\n",
    "learning_rate = None # default behaviour\n",
    "decay_after = 0.5\n",
    "N_MC = 10\n",
    "batch_size = 50\n",
    "n_iter = 100\n",
    "\n",
    "postRBM = rbm.RBM(n_h = mybackRBM.n_h + n_h, n_v = mybackRBM.n_v,\n",
    "          n_cv= mybackRBM.n_cv, visible='Potts', hidden='dReLU')\n",
    "diffRBM = diffrbm.DiffRBM(mybackRBM, postRBM)\n",
    "diffRBM.update_post_from_back(vlayer=True, hlayer=True)\n",
    "diffRBM.fit_top(train_data, batch_size = batch_size, n_iter = n_iter, l1b = l1b, l2_fields = l2f,\n",
    "         N_MC = N_MC, decay_after = decay_after, verbose = 0, vverbose = 0, batch_norm=True, reg_diff = False,\n",
    "         callback = produce_callback_NOweights(diffRBM))\n",
    "\n",
    "# compute loglikelihood (post)\n",
    "t_aveloglik_train = np.mean(diffRBM.RBMpost.likelihood(np.array(train_data, dtype=np.int16)))\n",
    "\n",
    "# compute performances (post and top)\n",
    "t_rbm = diffRBM.RBMpost\n",
    "liks_positive = -t_rbm.free_energy(np.array(train_data, dtype=np.int16))\n",
    "liks_negative = -t_rbm.free_energy(np.array(emerson_test_2num_withVJ, dtype=np.int16))\n",
    "labels = np.hstack((np.zeros((len(liks_negative))), np.ones((len(liks_positive))))) \n",
    "scores = np.hstack((liks_negative, liks_positive))\n",
    "fpr, tpr, thresholds = metrics.roc_curve(labels, scores)\n",
    "t_trainset_ROC_post = metrics.auc(fpr, tpr)\n",
    "\n",
    "t_rbm = diffRBM.top_rbm()\n",
    "liks_positive = -t_rbm.free_energy(np.array(train_data, dtype=np.int16))\n",
    "liks_negative = -t_rbm.free_energy(np.array(emerson_test_2num_withVJ, dtype=np.int16))\n",
    "labels = np.hstack((np.zeros((len(liks_negative))), np.ones((len(liks_positive))))) \n",
    "scores = np.hstack((liks_negative, liks_positive))\n",
    "fpr, tpr, thresholds = metrics.roc_curve(labels, scores)\n",
    "t_trainset_ROC_top = metrics.auc(fpr, tpr)"
   ]
  },
  {
   "cell_type": "code",
   "execution_count": 23,
   "id": "1051626a",
   "metadata": {},
   "outputs": [
    {
     "name": "stdout",
     "output_type": "stream",
     "text": [
      "-21.91738\n",
      "0.7633631474009481\n",
      "0.9478428778742667\n"
     ]
    }
   ],
   "source": [
    "print(t_aveloglik_train)\n",
    "\n",
    "print(t_trainset_ROC_post)\n",
    "print(t_trainset_ROC_top)"
   ]
  },
  {
   "cell_type": "code",
   "execution_count": 27,
   "id": "4aabbcea",
   "metadata": {},
   "outputs": [
    {
     "name": "stdout",
     "output_type": "stream",
     "text": [
      "AUROC (DIFF): 0.7633631474009481\n"
     ]
    },
    {
     "data": {
      "text/plain": [
       "<matplotlib.legend.Legend at 0x7f5ea2b76970>"
      ]
     },
     "execution_count": 27,
     "metadata": {},
     "output_type": "execute_result"
    },
    {
     "data": {
      "image/png": "[encoded data removed]",
      "text/plain": [
       "<Figure size 432x288 with 1 Axes>"
      ]
     },
     "metadata": {
      "needs_background": "light"
     },
     "output_type": "display_data"
    }
   ],
   "source": [
    "# check performance - DIFF\n",
    "t_rbm = diffRBM.RBMpost\n",
    "liks_positive = -t_rbm.free_energy(np.array(train_data, dtype=np.int16))\n",
    "liks_negative = -t_rbm.free_energy(np.array(emerson_test_2num_withVJ, dtype=np.int16))\n",
    "labels = np.hstack((np.zeros((len(liks_negative))), np.ones((len(liks_positive))))) \n",
    "scores = np.hstack((liks_negative, liks_positive))\n",
    "fpr, tpr, thresholds = metrics.roc_curve(labels, scores)\n",
    "print(\"AUROC (DIFF):\", metrics.auc(fpr, tpr))\n",
    "\n",
    "plt.hist(liks_positive, density=True, histtype='step', fill=False, label=\"GILGFVFTL\")\n",
    "plt.hist(liks_negative, density=True, histtype='step',  fill=False, label=\"Emerson\")\n",
    "plt.legend()"
   ]
  },
  {
   "cell_type": "code",
   "execution_count": 28,
   "id": "339f03be",
   "metadata": {},
   "outputs": [
    {
     "name": "stdout",
     "output_type": "stream",
     "text": [
      "AUROC (TOP): 0.9478428778742667\n"
     ]
    },
    {
     "data": {
      "text/plain": [
       "<matplotlib.legend.Legend at 0x7f5ed885d3d0>"
      ]
     },
     "execution_count": 28,
     "metadata": {},
     "output_type": "execute_result"
    },
    {
     "data": {
      "image/png": "[encoded data removed]",
      "text/plain": [
       "<Figure size 432x288 with 1 Axes>"
      ]
     },
     "metadata": {
      "needs_background": "light"
     },
     "output_type": "display_data"
    }
   ],
   "source": [
    "# check performance - TOP\n",
    "t_rbm = diffRBM.top_rbm()\n",
    "liks_positive = -t_rbm.free_energy(np.array(train_data, dtype=np.int16))\n",
    "liks_negative = -t_rbm.free_energy(np.array(emerson_test_2num_withVJ, dtype=np.int16))\n",
    "labels = np.hstack((np.zeros((len(liks_negative))), np.ones((len(liks_positive))))) \n",
    "scores = np.hstack((liks_negative, liks_positive))\n",
    "fpr, tpr, thresholds = metrics.roc_curve(labels, scores)\n",
    "print(\"AUROC (TOP):\", metrics.auc(fpr, tpr))\n",
    "\n",
    "plt.hist(liks_positive, density=True, histtype='step', fill=False, label=\"GILGFVFTL\")\n",
    "plt.hist(liks_negative, density=True, histtype='step',  fill=False, label=\"Emerson\")\n",
    "plt.legend()"
   ]
  },
  {
   "cell_type": "code",
   "execution_count": 26,
   "id": "c01bcf61",
   "metadata": {},
   "outputs": [],
   "source": [
    "# save RBM\n",
    "file_name = 'diffRBMlin_GILGFVFTL_-50+0hu-withVJ_hyperoptimized_NOreg_diff.data'\n",
    "RBM_utils.saveRBM(file_name, diffRBM)"
   ]
  },
  {
   "cell_type": "code",
   "execution_count": null,
   "id": "90c1c7d9",
   "metadata": {},
   "outputs": [],
   "source": []
  }
 ],
 "metadata": {
  "kernelspec": {
   "display_name": "Python 3 (ipykernel)",
   "language": "python",
   "name": "python3"
  },
  "language_info": {
   "codemirror_mode": {
    "name": "ipython",
    "version": 3
   },
   "file_extension": ".py",
   "mimetype": "text/x-python",
   "name": "python",
   "nbconvert_exporter": "python",
   "pygments_lexer": "ipython3",
   "version": "3.8.8"
  }
 },
 "nbformat": 4,
 "nbformat_minor": 5
}
